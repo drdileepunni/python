{
 "cells": [
  {
   "cell_type": "code",
   "execution_count": 10,
   "metadata": {},
   "outputs": [
    {
     "name": "stdout",
     "output_type": "stream",
     "text": [
      "/home/dileep/Desktop/python\r\n"
     ]
    }
   ],
   "source": [
    "!pwd"
   ]
  },
  {
   "cell_type": "code",
   "execution_count": 3,
   "metadata": {},
   "outputs": [],
   "source": [
    "import pyConTextNLP.pyConText as pyConText\n",
    "import pyConTextNLP.itemData as itemData\n",
    "import networkx as nx\n",
    "import pandas as pd"
   ]
  },
  {
   "cell_type": "code",
   "execution_count": 7,
   "metadata": {},
   "outputs": [],
   "source": [
    "txt = pd.read_csv('/home/dileep/Desktop/txt.csv')\n",
    "txt = txt.loc[:,'Unnamed: 0']"
   ]
  },
  {
   "cell_type": "code",
   "execution_count": 29,
   "metadata": {},
   "outputs": [],
   "source": [
    "report = txt[2]"
   ]
  },
  {
   "cell_type": "code",
   "execution_count": 13,
   "metadata": {},
   "outputs": [],
   "source": [
    "modifiers = itemData.get_items(\n",
    "    \"/home/dileep/Desktop/python/lexical_kb_05042016.yml\")\n",
    "targets = itemData.get_items(\n",
    "    \"/home/dileep/Desktop/python/utah_crit.yml\")"
   ]
  },
  {
   "cell_type": "code",
   "execution_count": 26,
   "metadata": {},
   "outputs": [],
   "source": [
    "from textblob import TextBlob\n",
    "\n",
    "def markup_sentence(s, modifiers, targets, prune_inactive=True):\n",
    "    \"\"\"\n",
    "    \"\"\"\n",
    "    markup = pyConText.ConTextMarkup()\n",
    "    markup.setRawText(s)\n",
    "    markup.cleanText()\n",
    "    markup.markItems(modifiers, mode=\"modifier\")\n",
    "    markup.markItems(targets, mode=\"target\")\n",
    "    markup.pruneMarks()\n",
    "    markup.dropMarks('Exclusion')\n",
    "    # apply modifiers to any targets within the modifiers scope\n",
    "    markup.applyModifiers()\n",
    "    markup.pruneSelfModifyingRelationships()\n",
    "    if prune_inactive:\n",
    "        markup.dropInactiveModifiers()\n",
    "    return markup"
   ]
  },
  {
   "cell_type": "code",
   "execution_count": 27,
   "metadata": {},
   "outputs": [],
   "source": [
    "context = pyConText.ConTextDocument()"
   ]
  },
  {
   "cell_type": "code",
   "execution_count": 30,
   "metadata": {},
   "outputs": [],
   "source": [
    "blob = TextBlob(report.lower())\n",
    "count = 0\n",
    "rslts = []\n",
    "for s in blob.sentences:\n",
    "    m = markup_sentence(s.raw, modifiers=modifiers, targets=targets)\n",
    "    rslts.append(m)\n",
    "\n",
    "for r in rslts:\n",
    "    context.addMarkup(r)"
   ]
  },
  {
   "cell_type": "code",
   "execution_count": 15,
   "metadata": {},
   "outputs": [
    {
     "name": "stdout",
     "output_type": "stream",
     "text": [
      "__________________________________________\n",
      "rawText:  this is  a 21 year old lady, rta, head injury - traumatic sah, ?fracture right femur.usg fast - normal. keep ventilated, break from sedation and paralysis in the morning - reassess gcs. may need repeat ct.continue ventilation and antiedema measures. cvs:- hr - 59.min, bp- 117/77mmhg. patient is on 0.05mcg/kg of noradrenaline. keep close watch on bp.  rs:- mechanically ventilated on vcv. no ventilator trigger.maintaining a spo2 of 100% on 40% fio2. gi:- may start rt feeds . sup to continue. renal:- keep watch on u/o. cns:- e1 m1 - but sedated and paralysed, will repeat neuro assessment after sedation and paralysis break. neurosurgeon to decide on decompressive surgery. repeat hb in the morning. please repeat usg abdomen and pelvis to look for any pelvic collections. xray pelvis and long bones as per the orthopedician. id:- consider stopping linezolid- mrsa cover not indicated.ceftriaxone sulbactam has adequate cover.  pmh and review of systems:nil history: rta,sah .\n",
      "cleanedText: None\n",
      "__________________________________________\n",
      "\n",
      "980\n"
     ]
    }
   ],
   "source": [
    "markup = pyConText.ConTextMarkup()\n",
    "markup.setRawText(txt[2].lower())\n",
    "print(markup)\n",
    "print(len(markup.getRawText()))"
   ]
  },
  {
   "cell_type": "code",
   "execution_count": 16,
   "metadata": {},
   "outputs": [
    {
     "name": "stdout",
     "output_type": "stream",
     "text": [
      "__________________________________________\n",
      "rawText:  this is  a 21 year old lady, rta, head injury - traumatic sah, ?fracture right femur.usg fast - normal. keep ventilated, break from sedation and paralysis in the morning - reassess gcs. may need repeat ct.continue ventilation and antiedema measures. cvs:- hr - 59.min, bp- 117/77mmhg. patient is on 0.05mcg/kg of noradrenaline. keep close watch on bp.  rs:- mechanically ventilated on vcv. no ventilator trigger.maintaining a spo2 of 100% on 40% fio2. gi:- may start rt feeds . sup to continue. renal:- keep watch on u/o. cns:- e1 m1 - but sedated and paralysed, will repeat neuro assessment after sedation and paralysis break. neurosurgeon to decide on decompressive surgery. repeat hb in the morning. please repeat usg abdomen and pelvis to look for any pelvic collections. xray pelvis and long bones as per the orthopedician. id:- consider stopping linezolid- mrsa cover not indicated.ceftriaxone sulbactam has adequate cover.  pmh and review of systems:nil history: rta,sah .\n",
      "cleanedText:  this is a 21 year old lady, rta, head injury - traumatic sah, ?fracture right femur.usg fast - normal. keep ventilated, break from sedation and paralysis in the morning - reassess gcs. may need repeat ct.continue ventilation and antiedema measures. cvs:- hr - 59.min, bp- 117/77mmhg. patient is on 0.05mcg/kg of noradrenaline. keep close watch on bp. rs:- mechanically ventilated on vcv. no ventilator trigger.maintaining a spo2 of 100% on 40% fio2. gi:- may start rt feeds . sup to continue. renal:- keep watch on u/o. cns:- e1 m1 - but sedated and paralysed, will repeat neuro assessment after sedation and paralysis break. neurosurgeon to decide on decompressive surgery. repeat hb in the morning. please repeat usg abdomen and pelvis to look for any pelvic collections. xray pelvis and long bones as per the orthopedician. id:- consider stopping linezolid- mrsa cover not indicated.ceftriaxone sulbactam has adequate cover. pmh and review of systems:nil history: rta,sah .\n",
      "__________________________________________\n",
      "\n",
      "977\n"
     ]
    }
   ],
   "source": [
    "markup.cleanText()\n",
    "print(markup)\n",
    "print(len(markup.getText()))"
   ]
  },
  {
   "cell_type": "code",
   "execution_count": 24,
   "metadata": {},
   "outputs": [
    {
     "name": "stdout",
     "output_type": "stream",
     "text": [
      "[(<id> 292883454806945371141545484304451790106 </id> <phrase> not </phrase> <category> ['definite_negated_existence'] </category> , {'category': 'modifier'}), (<id> 292884530725392314851250004631297352986 </id> <phrase> old </phrase> <category> ['historical'] </category> , {'category': 'modifier'}), (<id> 292902910866813999034928330892335801626 </id> <phrase> no </phrase> <category> ['definite_negated_existence'] </category> , {'category': 'modifier'}), (<id> 292917995908956714964806141660479776026 </id> <phrase> but </phrase> <category> ['conj'] </category> , {'category': 'modifier'}), (<id> 25286861284723554268380904210300560666 </id> <phrase> fracture </phrase> <category> ['fracture'] </category> , {'category': 'target'}), (<id> 192194797308138585934264472181208147226 </id> <phrase> not </phrase> <category> ['definite_negated_existence'] </category> , {'category': 'modifier'}), (<id> 192194890005088727623539456627630040346 </id> <phrase> old </phrase> <category> ['historical'] </category> , {'category': 'modifier'}), (<id> 192196365233474743225505448415985296666 </id> <phrase> no </phrase> <category> ['definite_negated_existence'] </category> , {'category': 'modifier'}), (<id> 192199699946834968611474760680854938906 </id> <phrase> but </phrase> <category> ['conj'] </category> , {'category': 'modifier'}), (<id> 220743855958332844204567828665613313306 </id> <phrase> not </phrase> <category> ['definite_negated_existence'] </category> , {'category': 'modifier'}), (<id> 220744121372677266990098767037846938906 </id> <phrase> old </phrase> <category> ['historical'] </category> , {'category': 'modifier'}), (<id> 220745816855355072246923268878384129306 </id> <phrase> no </phrase> <category> ['definite_negated_existence'] </category> , {'category': 'modifier'}), (<id> 220748765727563853165568500584215635226 </id> <phrase> but </phrase> <category> ['conj'] </category> , {'category': 'modifier'})]\n",
      "<class 'pyConTextNLP.tagObject.tagObject'>\n"
     ]
    }
   ],
   "source": [
    "markup.markItems(modifiers, mode=\"modifier\")\n",
    "print(markup.nodes(data=True))\n",
    "print(type(list(markup.nodes())[2]))"
   ]
  },
  {
   "cell_type": "code",
   "execution_count": 18,
   "metadata": {},
   "outputs": [],
   "source": [
    "markup.markItems(targets, mode=\"target\")"
   ]
  },
  {
   "cell_type": "code",
   "execution_count": 19,
   "metadata": {},
   "outputs": [
    {
     "name": "stdout",
     "output_type": "stream",
     "text": [
      "(<id> 292883454806945371141545484304451790106 </id> <phrase> not </phrase> <category> ['definite_negated_existence'] </category> , {'category': 'modifier'})\n",
      "(<id> 292884530725392314851250004631297352986 </id> <phrase> old </phrase> <category> ['historical'] </category> , {'category': 'modifier'})\n",
      "(<id> 292902910866813999034928330892335801626 </id> <phrase> no </phrase> <category> ['definite_negated_existence'] </category> , {'category': 'modifier'})\n",
      "(<id> 292917995908956714964806141660479776026 </id> <phrase> but </phrase> <category> ['conj'] </category> , {'category': 'modifier'})\n",
      "(<id> 25286861284723554268380904210300560666 </id> <phrase> fracture </phrase> <category> ['fracture'] </category> , {'category': 'target'})\n"
     ]
    }
   ],
   "source": [
    "for node in markup.nodes(data=True):\n",
    "    print(node)"
   ]
  },
  {
   "cell_type": "code",
   "execution_count": 20,
   "metadata": {},
   "outputs": [
    {
     "name": "stdout",
     "output_type": "stream",
     "text": [
      "(<id> 292883454806945371141545484304451790106 </id> <phrase> not </phrase> <category> ['definite_negated_existence'] </category> , {'category': 'modifier'})\n",
      "(<id> 292884530725392314851250004631297352986 </id> <phrase> old </phrase> <category> ['historical'] </category> , {'category': 'modifier'})\n",
      "(<id> 292902910866813999034928330892335801626 </id> <phrase> no </phrase> <category> ['definite_negated_existence'] </category> , {'category': 'modifier'})\n",
      "(<id> 292917995908956714964806141660479776026 </id> <phrase> but </phrase> <category> ['conj'] </category> , {'category': 'modifier'})\n",
      "(<id> 25286861284723554268380904210300560666 </id> <phrase> fracture </phrase> <category> ['fracture'] </category> , {'category': 'target'})\n"
     ]
    }
   ],
   "source": [
    "markup.pruneMarks()\n",
    "for node in markup.nodes(data=True):\n",
    "    print(node)"
   ]
  },
  {
   "cell_type": "code",
   "execution_count": 21,
   "metadata": {},
   "outputs": [
    {
     "name": "stdout",
     "output_type": "stream",
     "text": [
      "[]\n"
     ]
    }
   ],
   "source": [
    "print(markup.edges())"
   ]
  },
  {
   "cell_type": "code",
   "execution_count": 22,
   "metadata": {},
   "outputs": [
    {
     "name": "stdout",
     "output_type": "stream",
     "text": [
      "(<id> 292883454806945371141545484304451790106 </id> <phrase> not </phrase> <category> ['definite_negated_existence'] </category> , <id> 25286861284723554268380904210300560666 </id> <phrase> fracture </phrase> <category> ['fracture'] </category> )\n",
      "(<id> 292884530725392314851250004631297352986 </id> <phrase> old </phrase> <category> ['historical'] </category> , <id> 25286861284723554268380904210300560666 </id> <phrase> fracture </phrase> <category> ['fracture'] </category> )\n",
      "(<id> 292917995908956714964806141660479776026 </id> <phrase> but </phrase> <category> ['conj'] </category> , <id> 292884530725392314851250004631297352986 </id> <phrase> old </phrase> <category> ['historical'] </category> )\n",
      "(<id> 292917995908956714964806141660479776026 </id> <phrase> but </phrase> <category> ['conj'] </category> , <id> 292902910866813999034928330892335801626 </id> <phrase> no </phrase> <category> ['definite_negated_existence'] </category> )\n"
     ]
    }
   ],
   "source": [
    "markup.applyModifiers()\n",
    "for edge in markup.edges():\n",
    "    print(edge)"
   ]
  },
  {
   "cell_type": "code",
   "execution_count": null,
   "metadata": {},
   "outputs": [],
   "source": []
  }
 ],
 "metadata": {
  "kernelspec": {
   "display_name": "Python 3",
   "language": "python",
   "name": "python3"
  },
  "language_info": {
   "codemirror_mode": {
    "name": "ipython",
    "version": 3
   },
   "file_extension": ".py",
   "mimetype": "text/x-python",
   "name": "python",
   "nbconvert_exporter": "python",
   "pygments_lexer": "ipython3",
   "version": "3.7.3"
  }
 },
 "nbformat": 4,
 "nbformat_minor": 2
}
