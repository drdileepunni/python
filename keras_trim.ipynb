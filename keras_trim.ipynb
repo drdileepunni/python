{
 "cells": [
  {
   "cell_type": "code",
   "execution_count": 1,
   "metadata": {
    "scrolled": true
   },
   "outputs": [],
   "source": [
    "import math\n",
    "import numpy as np\n",
    "import matplotlib.pyplot as plt\n",
    "import pandas as pd\n",
    "\n",
    "%matplotlib inline\n",
    "np.random.seed(1)"
   ]
  },
  {
   "cell_type": "code",
   "execution_count": 2,
   "metadata": {},
   "outputs": [
    {
     "data": {
      "text/plain": [
       "'/home/dileep/Desktop/ripo'"
      ]
     },
     "execution_count": 2,
     "metadata": {},
     "output_type": "execute_result"
    }
   ],
   "source": [
    "import os\n",
    "os.getcwd()"
   ]
  },
  {
   "cell_type": "markdown",
   "metadata": {},
   "source": [
    "# Importing and Cleaning table"
   ]
  },
  {
   "cell_type": "code",
   "execution_count": 3,
   "metadata": {},
   "outputs": [
    {
     "data": {
      "text/plain": [
       "(1647, 34)"
      ]
     },
     "execution_count": 3,
     "metadata": {},
     "output_type": "execute_result"
    }
   ],
   "source": [
    "tnn = pd.read_csv('/home/dileep/Desktop/ripo/NN_source_file.csv', index_col=[0])\n",
    "tnn.shape"
   ]
  },
  {
   "cell_type": "code",
   "execution_count": 4,
   "metadata": {},
   "outputs": [
    {
     "name": "stdout",
     "output_type": "stream",
     "text": [
      "<class 'pandas.core.frame.DataFrame'>\n",
      "Int64Index: 1647 entries, 1 to 1647\n",
      "Data columns (total 34 columns):\n",
      "Name                  1647 non-null object\n",
      "CPMRN                 1629 non-null object\n",
      "Month.of.Admission    1647 non-null object\n",
      "Age                   1647 non-null int64\n",
      "Gender                1647 non-null object\n",
      "Hospital              1647 non-null object\n",
      "History               1647 non-null object\n",
      "Surgery               1647 non-null object\n",
      "Vent.mode             1623 non-null object\n",
      "GCS                   1647 non-null int64\n",
      "Temparature           1647 non-null object\n",
      "HR                    1647 non-null float64\n",
      "SpO2                  1647 non-null int64\n",
      "SBP                   1647 non-null float64\n",
      "MAP                   1647 non-null float64\n",
      "RR                    1647 non-null int64\n",
      "FiO2                  1647 non-null float64\n",
      "PaO2                  1647 non-null float64\n",
      "PaCO2                 1647 non-null float64\n",
      "pH                    1647 non-null float64\n",
      "A.a.gradient          1647 non-null int64\n",
      "HCO3                  1647 non-null float64\n",
      "Hb                    1647 non-null float64\n",
      "TLC                   1647 non-null int64\n",
      "Platelets             1647 non-null float64\n",
      "K                     1647 non-null float64\n",
      "Na                    1647 non-null float64\n",
      "Serum.Cr              1647 non-null float64\n",
      "Blood.Urea            1647 non-null float64\n",
      "Bili                  1647 non-null float64\n",
      "Urine.output          1647 non-null int64\n",
      "Lactate               1647 non-null float64\n",
      "INR                   1647 non-null float64\n",
      "Survival              1647 non-null object\n",
      "dtypes: float64(17), int64(7), object(10)\n",
      "memory usage: 450.4+ KB\n"
     ]
    }
   ],
   "source": [
    "tnn.info()"
   ]
  },
  {
   "cell_type": "code",
   "execution_count": 5,
   "metadata": {},
   "outputs": [
    {
     "data": {
      "text/plain": [
       "0"
      ]
     },
     "execution_count": 5,
     "metadata": {},
     "output_type": "execute_result"
    }
   ],
   "source": [
    "tnn['Temparature'] = pd.to_numeric(tnn['Temparature'], errors='coerce')\n",
    "tnn.Temparature = tnn.Temparature.replace(np.nan, 98.6)\n",
    "sum(tnn.Temparature.isnull())"
   ]
  },
  {
   "cell_type": "code",
   "execution_count": 6,
   "metadata": {},
   "outputs": [
    {
     "data": {
      "text/plain": [
       "array(['July 2018', 'August 2018', 'September 2018', 'October 2018',\n",
       "       'November 2018', 'December 2018', 'January 2019', 'February 2019',\n",
       "       'July 0201', 'January 2018', 'August 2015', 'February 2018',\n",
       "       'February 0219'], dtype=object)"
      ]
     },
     "execution_count": 6,
     "metadata": {},
     "output_type": "execute_result"
    }
   ],
   "source": [
    "tnn['Month.of.Admission'].unique()"
   ]
  },
  {
   "cell_type": "code",
   "execution_count": 7,
   "metadata": {},
   "outputs": [],
   "source": [
    "tnn['Month.of.Admission'] = tnn['Month.of.Admission'].replace('July 0201', 'July 2018')\n",
    "tnn['Month.of.Admission'] = tnn['Month.of.Admission'].replace('January 2018', 'January 2019')\n",
    "tnn['Month.of.Admission'] = tnn['Month.of.Admission'].replace('August 2015', 'August 2018')\n",
    "tnn['Month.of.Admission'] = tnn['Month.of.Admission'].replace('February 2018', 'February 2019')\n",
    "tnn['Month.of.Admission'] = tnn['Month.of.Admission'].replace('February 0219', 'February 2019')"
   ]
  },
  {
   "cell_type": "code",
   "execution_count": 8,
   "metadata": {},
   "outputs": [
    {
     "data": {
      "text/plain": [
       "RA           555\n",
       "Mask         407\n",
       "Cannula      332\n",
       "ETT          171\n",
       "High Flow     95\n",
       "Trach         63\n",
       "Name: Vent.mode, dtype: int64"
      ]
     },
     "execution_count": 8,
     "metadata": {},
     "output_type": "execute_result"
    }
   ],
   "source": [
    "tnn['Vent.mode'].value_counts()"
   ]
  },
  {
   "cell_type": "code",
   "execution_count": 9,
   "metadata": {},
   "outputs": [],
   "source": [
    "tnn['Vent.mode'] = tnn['Vent.mode'].replace(np.nan, 'RA')"
   ]
  },
  {
   "cell_type": "code",
   "execution_count": 10,
   "metadata": {},
   "outputs": [],
   "source": [
    "tnn2 = tnn.drop(['Name', 'CPMRN', 'History', 'SBP'], axis=1)"
   ]
  },
  {
   "cell_type": "code",
   "execution_count": 11,
   "metadata": {},
   "outputs": [],
   "source": [
    "tnn_trim = tnn.drop(['Name', 'CPMRN', 'History', 'SBP', 'Month.of.Admission', 'Gender', 'Hospital'], axis=1)"
   ]
  },
  {
   "cell_type": "code",
   "execution_count": 12,
   "metadata": {},
   "outputs": [
    {
     "data": {
      "text/plain": [
       "Index(['Month.of.Admission', 'Age', 'Gender', 'Hospital', 'Surgery',\n",
       "       'Vent.mode', 'GCS', 'Temparature', 'HR', 'SpO2', 'MAP', 'RR', 'FiO2',\n",
       "       'PaO2', 'PaCO2', 'pH', 'A.a.gradient', 'HCO3', 'Hb', 'TLC', 'Platelets',\n",
       "       'K', 'Na', 'Serum.Cr', 'Blood.Urea', 'Bili', 'Urine.output', 'Lactate',\n",
       "       'INR', 'Survival'],\n",
       "      dtype='object')"
      ]
     },
     "execution_count": 12,
     "metadata": {},
     "output_type": "execute_result"
    }
   ],
   "source": [
    "tnn2.columns"
   ]
  },
  {
   "cell_type": "code",
   "execution_count": 13,
   "metadata": {},
   "outputs": [
    {
     "name": "stderr",
     "output_type": "stream",
     "text": [
      "/home/dileep/anaconda3/envs/cpcv/lib/python3.7/site-packages/sklearn/preprocessing/data.py:645: DataConversionWarning: Data with input dtype int64 were all converted to float64 by StandardScaler.\n",
      "  return self.partial_fit(X, y)\n",
      "/home/dileep/anaconda3/envs/cpcv/lib/python3.7/site-packages/sklearn/base.py:464: DataConversionWarning: Data with input dtype int64 were all converted to float64 by StandardScaler.\n",
      "  return self.fit(X, **fit_params).transform(X)\n",
      "/home/dileep/anaconda3/envs/cpcv/lib/python3.7/site-packages/sklearn/preprocessing/data.py:645: DataConversionWarning: Data with input dtype int64 were all converted to float64 by StandardScaler.\n",
      "  return self.partial_fit(X, y)\n",
      "/home/dileep/anaconda3/envs/cpcv/lib/python3.7/site-packages/sklearn/base.py:464: DataConversionWarning: Data with input dtype int64 were all converted to float64 by StandardScaler.\n",
      "  return self.fit(X, **fit_params).transform(X)\n",
      "/home/dileep/anaconda3/envs/cpcv/lib/python3.7/site-packages/sklearn/preprocessing/data.py:645: DataConversionWarning: Data with input dtype int64 were all converted to float64 by StandardScaler.\n",
      "  return self.partial_fit(X, y)\n",
      "/home/dileep/anaconda3/envs/cpcv/lib/python3.7/site-packages/sklearn/base.py:464: DataConversionWarning: Data with input dtype int64 were all converted to float64 by StandardScaler.\n",
      "  return self.fit(X, **fit_params).transform(X)\n",
      "/home/dileep/anaconda3/envs/cpcv/lib/python3.7/site-packages/sklearn/preprocessing/data.py:645: DataConversionWarning: Data with input dtype int64 were all converted to float64 by StandardScaler.\n",
      "  return self.partial_fit(X, y)\n",
      "/home/dileep/anaconda3/envs/cpcv/lib/python3.7/site-packages/sklearn/base.py:464: DataConversionWarning: Data with input dtype int64 were all converted to float64 by StandardScaler.\n",
      "  return self.fit(X, **fit_params).transform(X)\n",
      "/home/dileep/anaconda3/envs/cpcv/lib/python3.7/site-packages/sklearn/preprocessing/data.py:645: DataConversionWarning: Data with input dtype int64 were all converted to float64 by StandardScaler.\n",
      "  return self.partial_fit(X, y)\n",
      "/home/dileep/anaconda3/envs/cpcv/lib/python3.7/site-packages/sklearn/base.py:464: DataConversionWarning: Data with input dtype int64 were all converted to float64 by StandardScaler.\n",
      "  return self.fit(X, **fit_params).transform(X)\n",
      "/home/dileep/anaconda3/envs/cpcv/lib/python3.7/site-packages/sklearn/preprocessing/data.py:645: DataConversionWarning: Data with input dtype int64 were all converted to float64 by StandardScaler.\n",
      "  return self.partial_fit(X, y)\n",
      "/home/dileep/anaconda3/envs/cpcv/lib/python3.7/site-packages/sklearn/base.py:464: DataConversionWarning: Data with input dtype int64 were all converted to float64 by StandardScaler.\n",
      "  return self.fit(X, **fit_params).transform(X)\n",
      "/home/dileep/anaconda3/envs/cpcv/lib/python3.7/site-packages/sklearn/preprocessing/data.py:645: DataConversionWarning: Data with input dtype int64 were all converted to float64 by StandardScaler.\n",
      "  return self.partial_fit(X, y)\n",
      "/home/dileep/anaconda3/envs/cpcv/lib/python3.7/site-packages/sklearn/base.py:464: DataConversionWarning: Data with input dtype int64 were all converted to float64 by StandardScaler.\n",
      "  return self.fit(X, **fit_params).transform(X)\n",
      "/home/dileep/anaconda3/envs/cpcv/lib/python3.7/site-packages/sklearn/preprocessing/data.py:645: DataConversionWarning: Data with input dtype int64 were all converted to float64 by StandardScaler.\n",
      "  return self.partial_fit(X, y)\n",
      "/home/dileep/anaconda3/envs/cpcv/lib/python3.7/site-packages/sklearn/base.py:464: DataConversionWarning: Data with input dtype int64 were all converted to float64 by StandardScaler.\n",
      "  return self.fit(X, **fit_params).transform(X)\n",
      "/home/dileep/anaconda3/envs/cpcv/lib/python3.7/site-packages/sklearn/preprocessing/data.py:645: DataConversionWarning: Data with input dtype int64 were all converted to float64 by StandardScaler.\n",
      "  return self.partial_fit(X, y)\n",
      "/home/dileep/anaconda3/envs/cpcv/lib/python3.7/site-packages/sklearn/base.py:464: DataConversionWarning: Data with input dtype int64 were all converted to float64 by StandardScaler.\n",
      "  return self.fit(X, **fit_params).transform(X)\n",
      "/home/dileep/anaconda3/envs/cpcv/lib/python3.7/site-packages/sklearn/preprocessing/data.py:645: DataConversionWarning: Data with input dtype int64 were all converted to float64 by StandardScaler.\n",
      "  return self.partial_fit(X, y)\n",
      "/home/dileep/anaconda3/envs/cpcv/lib/python3.7/site-packages/sklearn/base.py:464: DataConversionWarning: Data with input dtype int64 were all converted to float64 by StandardScaler.\n",
      "  return self.fit(X, **fit_params).transform(X)\n",
      "/home/dileep/anaconda3/envs/cpcv/lib/python3.7/site-packages/sklearn/preprocessing/data.py:645: DataConversionWarning: Data with input dtype int64 were all converted to float64 by StandardScaler.\n",
      "  return self.partial_fit(X, y)\n",
      "/home/dileep/anaconda3/envs/cpcv/lib/python3.7/site-packages/sklearn/base.py:464: DataConversionWarning: Data with input dtype int64 were all converted to float64 by StandardScaler.\n",
      "  return self.fit(X, **fit_params).transform(X)\n",
      "/home/dileep/anaconda3/envs/cpcv/lib/python3.7/site-packages/sklearn/preprocessing/data.py:645: DataConversionWarning: Data with input dtype int64 were all converted to float64 by StandardScaler.\n",
      "  return self.partial_fit(X, y)\n",
      "/home/dileep/anaconda3/envs/cpcv/lib/python3.7/site-packages/sklearn/base.py:464: DataConversionWarning: Data with input dtype int64 were all converted to float64 by StandardScaler.\n",
      "  return self.fit(X, **fit_params).transform(X)\n",
      "/home/dileep/anaconda3/envs/cpcv/lib/python3.7/site-packages/sklearn/preprocessing/data.py:645: DataConversionWarning: Data with input dtype int64 were all converted to float64 by StandardScaler.\n",
      "  return self.partial_fit(X, y)\n",
      "/home/dileep/anaconda3/envs/cpcv/lib/python3.7/site-packages/sklearn/base.py:464: DataConversionWarning: Data with input dtype int64 were all converted to float64 by StandardScaler.\n",
      "  return self.fit(X, **fit_params).transform(X)\n",
      "/home/dileep/anaconda3/envs/cpcv/lib/python3.7/site-packages/sklearn/preprocessing/data.py:645: DataConversionWarning: Data with input dtype int64 were all converted to float64 by StandardScaler.\n",
      "  return self.partial_fit(X, y)\n",
      "/home/dileep/anaconda3/envs/cpcv/lib/python3.7/site-packages/sklearn/base.py:464: DataConversionWarning: Data with input dtype int64 were all converted to float64 by StandardScaler.\n",
      "  return self.fit(X, **fit_params).transform(X)\n"
     ]
    }
   ],
   "source": [
    "from sklearn import preprocessing\n",
    "scaler = preprocessing.StandardScaler()\n",
    "def scaleColumns(df, cols_to_scale):\n",
    "    for col in cols_to_scale:\n",
    "        df[col] = pd.DataFrame(scaler.fit_transform(pd.DataFrame(df[col])))\n",
    "    return df\n",
    "tnn_scaled = scaleColumns(tnn2, ['Age', 'GCS', 'Temparature', 'HR', 'SpO2', 'MAP', 'RR', 'FiO2', \n",
    "                                          'PaO2', 'PaCO2', 'pH', 'A.a.gradient', 'HCO3', 'Hb', 'TLC', 'Platelets', \n",
    "                                         'K', 'Na', 'Serum.Cr', 'Blood.Urea', 'Bili', 'Urine.output', 'Lactate', \n",
    "                                         'INR'])\n",
    "tnt_scaled = scaleColumns(tnn_trim, ['Age', 'GCS', 'Temparature', 'HR', 'SpO2', 'MAP', 'RR', 'FiO2', \n",
    "                                          'PaO2', 'PaCO2', 'pH', 'A.a.gradient', 'HCO3', 'Hb', 'TLC', 'Platelets', \n",
    "                                         'K', 'Na', 'Serum.Cr', 'Blood.Urea', 'Bili', 'Urine.output', 'Lactate', \n",
    "                                         'INR'])"
   ]
  },
  {
   "cell_type": "markdown",
   "metadata": {},
   "source": [
    "### Changing dtypes of numerics from float64 to float32"
   ]
  },
  {
   "cell_type": "code",
   "execution_count": 14,
   "metadata": {
    "scrolled": true
   },
   "outputs": [
    {
     "name": "stdout",
     "output_type": "stream",
     "text": [
      "<class 'pandas.core.frame.DataFrame'>\n",
      "Int64Index: 1647 entries, 1 to 1647\n",
      "Data columns (total 30 columns):\n",
      "Month.of.Admission    1647 non-null object\n",
      "Age                   1646 non-null float32\n",
      "Gender                1647 non-null object\n",
      "Hospital              1647 non-null object\n",
      "Surgery               1647 non-null object\n",
      "Vent.mode             1647 non-null object\n",
      "GCS                   1646 non-null float32\n",
      "Temparature           1646 non-null float32\n",
      "HR                    1646 non-null float32\n",
      "SpO2                  1646 non-null float32\n",
      "MAP                   1646 non-null float32\n",
      "RR                    1646 non-null float32\n",
      "FiO2                  1646 non-null float32\n",
      "PaO2                  1646 non-null float32\n",
      "PaCO2                 1646 non-null float32\n",
      "pH                    1646 non-null float32\n",
      "A.a.gradient          1646 non-null float32\n",
      "HCO3                  1646 non-null float32\n",
      "Hb                    1646 non-null float32\n",
      "TLC                   1646 non-null float32\n",
      "Platelets             1646 non-null float32\n",
      "K                     1646 non-null float32\n",
      "Na                    1646 non-null float32\n",
      "Serum.Cr              1646 non-null float32\n",
      "Blood.Urea            1646 non-null float32\n",
      "Bili                  1646 non-null float32\n",
      "Urine.output          1646 non-null float32\n",
      "Lactate               1646 non-null float32\n",
      "INR                   1646 non-null float32\n",
      "Survival              1647 non-null object\n",
      "dtypes: float32(24), object(6)\n",
      "memory usage: 244.5+ KB\n",
      "<class 'pandas.core.frame.DataFrame'>\n",
      "Int64Index: 1647 entries, 1 to 1647\n",
      "Data columns (total 27 columns):\n",
      "Age             1646 non-null float32\n",
      "Surgery         1647 non-null object\n",
      "Vent.mode       1647 non-null object\n",
      "GCS             1646 non-null float32\n",
      "Temparature     1646 non-null float32\n",
      "HR              1646 non-null float32\n",
      "SpO2            1646 non-null float32\n",
      "MAP             1646 non-null float32\n",
      "RR              1646 non-null float32\n",
      "FiO2            1646 non-null float32\n",
      "PaO2            1646 non-null float32\n",
      "PaCO2           1646 non-null float32\n",
      "pH              1646 non-null float32\n",
      "A.a.gradient    1646 non-null float32\n",
      "HCO3            1646 non-null float32\n",
      "Hb              1646 non-null float32\n",
      "TLC             1646 non-null float32\n",
      "Platelets       1646 non-null float32\n",
      "K               1646 non-null float32\n",
      "Na              1646 non-null float32\n",
      "Serum.Cr        1646 non-null float32\n",
      "Blood.Urea      1646 non-null float32\n",
      "Bili            1646 non-null float32\n",
      "Urine.output    1646 non-null float32\n",
      "Lactate         1646 non-null float32\n",
      "INR             1646 non-null float32\n",
      "Survival        1647 non-null object\n",
      "dtypes: float32(24), object(3)\n",
      "memory usage: 205.9+ KB\n"
     ]
    }
   ],
   "source": [
    "names = np.array(tnn_scaled.columns)\n",
    "for i in range(len(names)):\n",
    "    if tnn_scaled[names[i]].dtype == 'float64':\n",
    "        tnn_scaled[names[i]] = tnn_scaled[names[i]].astype('float32')\n",
    "names2 = np.array(tnt_scaled.columns)\n",
    "for i in range(len(names2)):\n",
    "    if tnt_scaled[names2[i]].dtype == 'float64':\n",
    "        tnt_scaled[names2[i]] = tnt_scaled[names2[i]].astype('float32')\n",
    "tnn_scaled.info()\n",
    "tnt_scaled.info()"
   ]
  },
  {
   "cell_type": "code",
   "execution_count": 15,
   "metadata": {
    "scrolled": true
   },
   "outputs": [],
   "source": [
    "tnn3 = pd.get_dummies(tnn_scaled, drop_first=True)\n",
    "tnt3 = pd.get_dummies(tnt_scaled, drop_first=True)"
   ]
  },
  {
   "cell_type": "code",
   "execution_count": 16,
   "metadata": {},
   "outputs": [],
   "source": [
    "tnn3 = tnn3.dropna()\n",
    "tnt3 = tnt3.dropna()"
   ]
  },
  {
   "cell_type": "code",
   "execution_count": 17,
   "metadata": {},
   "outputs": [
    {
     "name": "stdout",
     "output_type": "stream",
     "text": [
      "Index(['Age', 'GCS', 'Temparature', 'HR', 'SpO2', 'MAP', 'RR', 'FiO2', 'PaO2',\n",
      "       'PaCO2', 'pH', 'A.a.gradient', 'HCO3', 'Hb', 'TLC', 'Platelets', 'K',\n",
      "       'Na', 'Serum.Cr', 'Blood.Urea', 'Bili', 'Urine.output', 'Lactate',\n",
      "       'INR', 'Month.of.Admission_December 2018',\n",
      "       'Month.of.Admission_February 2019', 'Month.of.Admission_January 2019',\n",
      "       'Month.of.Admission_July 2018', 'Month.of.Admission_November 2018',\n",
      "       'Month.of.Admission_October 2018', 'Month.of.Admission_September 2018',\n",
      "       'Gender_Male', 'Hospital_Brains-MVJ', 'Hospital_Brains-SSNMC',\n",
      "       'Hospital_HCG DR', 'Hospital_HCG EKO', 'Hospital_HCG Hubli',\n",
      "       'Hospital_HCG Vijayawada', 'Hospital_MRNH', 'Hospital_Prashant',\n",
      "       'Surgery_Emergency surgery', 'Surgery_Non-Operative', 'Vent.mode_ETT',\n",
      "       'Vent.mode_High Flow', 'Vent.mode_Mask', 'Vent.mode_RA',\n",
      "       'Vent.mode_Trach', 'Survival_Expired'],\n",
      "      dtype='object')\n",
      "Index(['Age', 'GCS', 'Temparature', 'HR', 'SpO2', 'MAP', 'RR', 'FiO2', 'PaO2',\n",
      "       'PaCO2', 'pH', 'A.a.gradient', 'HCO3', 'Hb', 'TLC', 'Platelets', 'K',\n",
      "       'Na', 'Serum.Cr', 'Blood.Urea', 'Bili', 'Urine.output', 'Lactate',\n",
      "       'INR', 'Surgery_Emergency surgery', 'Surgery_Non-Operative',\n",
      "       'Vent.mode_ETT', 'Vent.mode_High Flow', 'Vent.mode_Mask',\n",
      "       'Vent.mode_RA', 'Vent.mode_Trach', 'Survival_Expired'],\n",
      "      dtype='object')\n"
     ]
    }
   ],
   "source": [
    "print(tnn3.columns)\n",
    "print(tnt3.columns)"
   ]
  },
  {
   "cell_type": "code",
   "execution_count": 18,
   "metadata": {},
   "outputs": [
    {
     "name": "stdout",
     "output_type": "stream",
     "text": [
      "(1646, 48)\n",
      "(1646, 32)\n"
     ]
    }
   ],
   "source": [
    "print(tnn3.shape)\n",
    "print(tnt3.shape)"
   ]
  },
  {
   "cell_type": "code",
   "execution_count": 19,
   "metadata": {},
   "outputs": [
    {
     "name": "stdout",
     "output_type": "stream",
     "text": [
      "(1646, 47)\n",
      "(1646, 1)\n"
     ]
    }
   ],
   "source": [
    "X = tnn3.iloc[:, 0:47].values; Y = tnn3.iloc[:, 47].values.reshape(-1, 1); \n",
    "print(X.shape); print(Y.shape);"
   ]
  },
  {
   "cell_type": "code",
   "execution_count": 20,
   "metadata": {},
   "outputs": [
    {
     "name": "stdout",
     "output_type": "stream",
     "text": [
      "(1646, 31)\n",
      "(1646, 1)\n"
     ]
    }
   ],
   "source": [
    "x = tnt3.iloc[:, 0:31].values; y = tnt3.iloc[:, 31].values.reshape(-1, 1);\n",
    "print(x.shape); print(y.shape);"
   ]
  },
  {
   "cell_type": "code",
   "execution_count": 21,
   "metadata": {},
   "outputs": [],
   "source": [
    "from sklearn.model_selection import train_test_split\n",
    "X_train, X_test, Y_train, Y_test = train_test_split(X, Y, test_size=0.5, stratify=Y)"
   ]
  },
  {
   "cell_type": "code",
   "execution_count": 22,
   "metadata": {},
   "outputs": [],
   "source": [
    "x_train, x_test, y_train, y_test = train_test_split(x, y, test_size=0.5, stratify=y)"
   ]
  },
  {
   "cell_type": "markdown",
   "metadata": {},
   "source": [
    "## Keras Model\n",
    "## Performance in full data"
   ]
  },
  {
   "cell_type": "code",
   "execution_count": 23,
   "metadata": {},
   "outputs": [
    {
     "name": "stderr",
     "output_type": "stream",
     "text": [
      "Using TensorFlow backend.\n"
     ]
    }
   ],
   "source": [
    "from keras.layers import Dense, Dropout\n",
    "from keras.models import Sequential\n",
    "import matplotlib.pyplot as plt\n",
    "from keras import regularizers\n",
    "from sklearn.metrics import roc_curve\n",
    "from sklearn.metrics import roc_auc_score"
   ]
  },
  {
   "cell_type": "code",
   "execution_count": 24,
   "metadata": {},
   "outputs": [
    {
     "name": "stdout",
     "output_type": "stream",
     "text": [
      "WARNING:tensorflow:From /home/dileep/anaconda3/envs/cpcv/lib/python3.7/site-packages/tensorflow/python/framework/op_def_library.py:263: colocate_with (from tensorflow.python.framework.ops) is deprecated and will be removed in a future version.\n",
      "Instructions for updating:\n",
      "Colocations handled automatically by placer.\n",
      "WARNING:tensorflow:From /home/dileep/anaconda3/envs/cpcv/lib/python3.7/site-packages/keras/backend/tensorflow_backend.py:3445: calling dropout (from tensorflow.python.ops.nn_ops) with keep_prob is deprecated and will be removed in a future version.\n",
      "Instructions for updating:\n",
      "Please use `rate` instead of `keep_prob`. Rate should be set to `rate = 1 - keep_prob`.\n"
     ]
    }
   ],
   "source": [
    "model = Sequential()\n",
    "model.add(Dense(300, activation='relu', input_shape=(47,)))\n",
    "model.add(Dense(300, activation='relu'))\n",
    "model.add(Dropout(0.5))\n",
    "model.add(Dense(300, activation='relu'))\n",
    "model.add(Dropout(0.5))\n",
    "model.add(Dense(300, kernel_regularizer=regularizers.l2(0.01), activation='relu'))\n",
    "model.add(Dropout(0.5))\n",
    "model.add(Dense(300, kernel_regularizer=regularizers.l2(0.01), activation='relu'))\n",
    "model.add(Dropout(0.5))\n",
    "model.add(Dense(300, kernel_regularizer=regularizers.l2(0.01), activation= 'relu'))\n",
    "model.add(Dropout(0.5))\n",
    "model.add(Dense(50, kernel_regularizer=regularizers.l2(0.1), activation='relu'))\n",
    "model.add(Dense(2, activation='softmax'))"
   ]
  },
  {
   "cell_type": "code",
   "execution_count": 25,
   "metadata": {},
   "outputs": [],
   "source": [
    "model.compile(optimizer='adam', loss='sparse_categorical_crossentropy', metrics=['accuracy'])"
   ]
  },
  {
   "cell_type": "code",
   "execution_count": 26,
   "metadata": {
    "scrolled": true
   },
   "outputs": [
    {
     "name": "stdout",
     "output_type": "stream",
     "text": [
      "WARNING:tensorflow:From /home/dileep/anaconda3/envs/cpcv/lib/python3.7/site-packages/tensorflow/python/ops/math_ops.py:3066: to_int32 (from tensorflow.python.ops.math_ops) is deprecated and will be removed in a future version.\n",
      "Instructions for updating:\n",
      "Use tf.cast instead.\n",
      "Epoch 1/20\n",
      "823/823 [==============================] - 2s 2ms/step - loss: 16.6490 - acc: 0.9429\n",
      "Epoch 2/20\n",
      "823/823 [==============================] - 0s 158us/step - loss: 13.4323 - acc: 0.9526\n",
      "Epoch 3/20\n",
      "823/823 [==============================] - 0s 159us/step - loss: 10.7043 - acc: 0.9526\n",
      "Epoch 4/20\n",
      "823/823 [==============================] - 0s 199us/step - loss: 8.4385 - acc: 0.9526\n",
      "Epoch 5/20\n",
      "823/823 [==============================] - 0s 172us/step - loss: 6.6018 - acc: 0.9526\n",
      "Epoch 6/20\n",
      "823/823 [==============================] - 0s 156us/step - loss: 5.1644 - acc: 0.9526\n",
      "Epoch 7/20\n",
      "823/823 [==============================] - 0s 162us/step - loss: 4.0045 - acc: 0.9526\n",
      "Epoch 8/20\n",
      "823/823 [==============================] - 0s 183us/step - loss: 3.1150 - acc: 0.9526\n",
      "Epoch 9/20\n",
      "823/823 [==============================] - 0s 270us/step - loss: 2.4149 - acc: 0.9526\n",
      "Epoch 10/20\n",
      "823/823 [==============================] - 0s 219us/step - loss: 1.8865 - acc: 0.9526\n",
      "Epoch 11/20\n",
      "823/823 [==============================] - 0s 185us/step - loss: 1.4567 - acc: 0.9526\n",
      "Epoch 12/20\n",
      "823/823 [==============================] - 0s 157us/step - loss: 1.1367 - acc: 0.9526\n",
      "Epoch 13/20\n",
      "823/823 [==============================] - 0s 169us/step - loss: 0.9051 - acc: 0.9526\n",
      "Epoch 14/20\n",
      "823/823 [==============================] - 0s 183us/step - loss: 0.7090 - acc: 0.9526\n",
      "Epoch 15/20\n",
      "823/823 [==============================] - 0s 168us/step - loss: 0.5648 - acc: 0.9526\n",
      "Epoch 16/20\n",
      "823/823 [==============================] - 0s 182us/step - loss: 0.4507 - acc: 0.9526\n",
      "Epoch 17/20\n",
      "823/823 [==============================] - 0s 170us/step - loss: 0.3616 - acc: 0.9526\n",
      "Epoch 18/20\n",
      "823/823 [==============================] - 0s 175us/step - loss: 0.3020 - acc: 0.9526\n",
      "Epoch 19/20\n",
      "823/823 [==============================] - 0s 168us/step - loss: 0.2486 - acc: 0.9526\n",
      "Epoch 20/20\n",
      "823/823 [==============================] - 0s 178us/step - loss: 0.2059 - acc: 0.9526\n"
     ]
    },
    {
     "data": {
      "text/plain": [
       "<keras.callbacks.History at 0x7fe6f5399ac8>"
      ]
     },
     "execution_count": 26,
     "metadata": {},
     "output_type": "execute_result"
    }
   ],
   "source": [
    "model.fit(X_train, Y_train, batch_size=100, epochs=20)"
   ]
  },
  {
   "cell_type": "code",
   "execution_count": 27,
   "metadata": {},
   "outputs": [],
   "source": [
    "Y_tr_pred_prob = model.predict(X_train)\n",
    "Y_ts_pred_prob = model.predict(X_test)"
   ]
  },
  {
   "cell_type": "code",
   "execution_count": 28,
   "metadata": {
    "scrolled": true
   },
   "outputs": [
    {
     "name": "stdout",
     "output_type": "stream",
     "text": [
      "0.9991496598639457\n",
      "0.6261813537675607\n"
     ]
    }
   ],
   "source": [
    "y_tr_pred_prob = Y_tr_pred_prob[:,1]\n",
    "y_ts_pred_prob = Y_ts_pred_prob[:,1]\n",
    "print(roc_auc_score(Y_train, y_tr_pred_prob))\n",
    "print(roc_auc_score(Y_test, y_ts_pred_prob))"
   ]
  },
  {
   "cell_type": "markdown",
   "metadata": {},
   "source": [
    "## Performance in trim data"
   ]
  },
  {
   "cell_type": "code",
   "execution_count": 29,
   "metadata": {},
   "outputs": [],
   "source": [
    "model = Sequential()\n",
    "model.add(Dense(300, activation='relu', input_shape=(31,)))\n",
    "model.add(Dropout(0.5))\n",
    "model.add(Dense(300, activation='relu'))\n",
    "model.add(Dropout(0.5))\n",
    "model.add(Dense(300, activation='relu'))\n",
    "model.add(Dense(300, activation='relu'))\n",
    "model.add(Dense(300, kernel_regularizer=regularizers.l2(0.01), activation='relu'))\n",
    "model.add(Dense(300, kernel_regularizer=regularizers.l2(0.01), activation= 'relu'))\n",
    "model.add(Dense(50, kernel_regularizer=regularizers.l2(0.1), activation='relu'))\n",
    "model.add(Dense(2, activation='softmax'))"
   ]
  },
  {
   "cell_type": "code",
   "execution_count": 30,
   "metadata": {},
   "outputs": [],
   "source": [
    "model.compile(optimizer='adam', loss='sparse_categorical_crossentropy', metrics=['accuracy'])"
   ]
  },
  {
   "cell_type": "code",
   "execution_count": 31,
   "metadata": {
    "scrolled": true
   },
   "outputs": [
    {
     "name": "stdout",
     "output_type": "stream",
     "text": [
      "Epoch 1/20\n",
      "823/823 [==============================] - 1s 1ms/step - loss: 13.9340 - acc: 0.9332\n",
      "Epoch 2/20\n",
      "823/823 [==============================] - 0s 151us/step - loss: 11.1702 - acc: 0.9514\n",
      "Epoch 3/20\n",
      "823/823 [==============================] - 0s 150us/step - loss: 8.7894 - acc: 0.9514\n",
      "Epoch 4/20\n",
      "823/823 [==============================] - 0s 147us/step - loss: 6.8594 - acc: 0.9514\n",
      "Epoch 5/20\n",
      "823/823 [==============================] - 0s 143us/step - loss: 5.3093 - acc: 0.9514\n",
      "Epoch 6/20\n",
      "823/823 [==============================] - 0s 150us/step - loss: 4.0956 - acc: 0.9514\n",
      "Epoch 7/20\n",
      "823/823 [==============================] - 0s 144us/step - loss: 3.1367 - acc: 0.9514\n",
      "Epoch 8/20\n",
      "823/823 [==============================] - 0s 151us/step - loss: 2.4148 - acc: 0.9514\n",
      "Epoch 9/20\n",
      "823/823 [==============================] - 0s 152us/step - loss: 1.8555 - acc: 0.9514\n",
      "Epoch 10/20\n",
      "823/823 [==============================] - 0s 146us/step - loss: 1.4243 - acc: 0.9514\n",
      "Epoch 11/20\n",
      "823/823 [==============================] - 0s 186us/step - loss: 1.1079 - acc: 0.9514\n",
      "Epoch 12/20\n",
      "823/823 [==============================] - 0s 140us/step - loss: 0.8549 - acc: 0.9514\n",
      "Epoch 13/20\n",
      "823/823 [==============================] - 0s 168us/step - loss: 0.6796 - acc: 0.9514\n",
      "Epoch 14/20\n",
      "823/823 [==============================] - 0s 159us/step - loss: 0.5343 - acc: 0.9514\n",
      "Epoch 15/20\n",
      "823/823 [==============================] - 0s 165us/step - loss: 0.4227 - acc: 0.9514\n",
      "Epoch 16/20\n",
      "823/823 [==============================] - 0s 160us/step - loss: 0.3566 - acc: 0.9514\n",
      "Epoch 17/20\n",
      "823/823 [==============================] - 0s 168us/step - loss: 0.2920 - acc: 0.9514\n",
      "Epoch 18/20\n",
      "823/823 [==============================] - 0s 179us/step - loss: 0.2456 - acc: 0.9514\n",
      "Epoch 19/20\n",
      "823/823 [==============================] - 0s 206us/step - loss: 0.2152 - acc: 0.9514\n",
      "Epoch 20/20\n",
      "823/823 [==============================] - 0s 234us/step - loss: 0.1990 - acc: 0.9514\n"
     ]
    },
    {
     "data": {
      "text/plain": [
       "<keras.callbacks.History at 0x7fe6f5399a90>"
      ]
     },
     "execution_count": 31,
     "metadata": {},
     "output_type": "execute_result"
    }
   ],
   "source": [
    "model.fit(x_train, y_train, batch_size=100, epochs=20)"
   ]
  },
  {
   "cell_type": "code",
   "execution_count": 32,
   "metadata": {},
   "outputs": [
    {
     "name": "stdout",
     "output_type": "stream",
     "text": [
      "0.9597381864623243\n",
      "0.58899136577708\n"
     ]
    }
   ],
   "source": [
    "Y_tr_pp = model.predict(x_train)\n",
    "Y_ts_pp = model.predict(x_test)\n",
    "y_tr_pred_prob = Y_tr_pp[:,1]\n",
    "y_ts_pred_prob = Y_ts_pp[:,1]\n",
    "print(roc_auc_score(y_train, y_tr_pred_prob))\n",
    "print(roc_auc_score(y_test, y_ts_pred_prob))"
   ]
  },
  {
   "cell_type": "markdown",
   "metadata": {},
   "source": [
    "## Hyperparameter Tuning"
   ]
  },
  {
   "cell_type": "code",
   "execution_count": null,
   "metadata": {
    "collapsed": true
   },
   "outputs": [],
   "source": [
    "from sklearn.model_selection import GridSearchCV\n",
    "from sklearn.linear_model import LogisticRegression"
   ]
  },
  {
   "cell_type": "code",
   "execution_count": null,
   "metadata": {
    "collapsed": true
   },
   "outputs": [],
   "source": [
    "c_space = np.logspace(-5, 8, 15)\n",
    "param_grid = {'C': c_space}"
   ]
  },
  {
   "cell_type": "code",
   "execution_count": null,
   "metadata": {
    "collapsed": true
   },
   "outputs": [],
   "source": [
    "logreg = LogisticRegression()\n",
    "logreg_cv = GridSearchCV(logreg, param_grid, cv=5)"
   ]
  },
  {
   "cell_type": "code",
   "execution_count": null,
   "metadata": {},
   "outputs": [],
   "source": [
    "logreg_cv.fit(x_train, y_train)"
   ]
  },
  {
   "cell_type": "code",
   "execution_count": null,
   "metadata": {},
   "outputs": [],
   "source": [
    "print(\"Tuned LR parameters: {}\".format(logreg_cv.best_params_))\n",
    "print(\"Best score is: {}\".format(logreg_cv.best_score_))"
   ]
  },
  {
   "cell_type": "code",
   "execution_count": null,
   "metadata": {
    "collapsed": true
   },
   "outputs": [],
   "source": []
  }
 ],
 "metadata": {
  "kernelspec": {
   "display_name": "Python 3",
   "language": "python",
   "name": "python3"
  },
  "language_info": {
   "codemirror_mode": {
    "name": "ipython",
    "version": 3
   },
   "file_extension": ".py",
   "mimetype": "text/x-python",
   "name": "python",
   "nbconvert_exporter": "python",
   "pygments_lexer": "ipython3",
   "version": "3.7.3"
  }
 },
 "nbformat": 4,
 "nbformat_minor": 2
}
