{
 "cells": [
  {
   "cell_type": "code",
   "execution_count": 1,
   "metadata": {},
   "outputs": [
    {
     "name": "stdout",
     "output_type": "stream",
     "text": [
      "/home/dileep/Desktop/python\r\n"
     ]
    }
   ],
   "source": [
    "!pwd"
   ]
  },
  {
   "cell_type": "code",
   "execution_count": 2,
   "metadata": {},
   "outputs": [],
   "source": [
    "import pandas as pd\n",
    "import numpy as np"
   ]
  },
  {
   "cell_type": "code",
   "execution_count": 20,
   "metadata": {},
   "outputs": [],
   "source": [
    "scores = pd.read_csv('For_scores.csv')"
   ]
  },
  {
   "cell_type": "code",
   "execution_count": 21,
   "metadata": {},
   "outputs": [],
   "source": [
    "scores = scores.drop('Unnamed: 0', axis=1)\n",
    "scores = scores.drop(['Name', 'CPMRN'], axis=1)"
   ]
  },
  {
   "cell_type": "code",
   "execution_count": 22,
   "metadata": {},
   "outputs": [
    {
     "data": {
      "text/plain": [
       "Trop Score          0\n",
       "Trop Pred Mort      0\n",
       "ICU Survival        0\n",
       "APACHE Score        0\n",
       "APACHE Pred Mort    0\n",
       "dtype: int64"
      ]
     },
     "execution_count": 22,
     "metadata": {},
     "output_type": "execute_result"
    }
   ],
   "source": [
    "scores.isnull().sum()"
   ]
  },
  {
   "cell_type": "code",
   "execution_count": 23,
   "metadata": {},
   "outputs": [
    {
     "data": {
      "text/plain": [
       "(2196, 5)"
      ]
     },
     "execution_count": 23,
     "metadata": {},
     "output_type": "execute_result"
    }
   ],
   "source": [
    "scores.shape"
   ]
  },
  {
   "cell_type": "code",
   "execution_count": 24,
   "metadata": {
    "scrolled": true
   },
   "outputs": [
    {
     "name": "stdout",
     "output_type": "stream",
     "text": [
      "<class 'pandas.core.frame.DataFrame'>\n",
      "RangeIndex: 2196 entries, 0 to 2195\n",
      "Data columns (total 5 columns):\n",
      "Trop Score          2196 non-null object\n",
      "Trop Pred Mort      2196 non-null object\n",
      "ICU Survival        2196 non-null object\n",
      "APACHE Score        2196 non-null object\n",
      "APACHE Pred Mort    2196 non-null object\n",
      "dtypes: object(5)\n",
      "memory usage: 85.9+ KB\n"
     ]
    }
   ],
   "source": [
    "scores.info()"
   ]
  },
  {
   "cell_type": "code",
   "execution_count": 25,
   "metadata": {},
   "outputs": [],
   "source": [
    "numeric = scores.columns[[0,1,3,4]]\n",
    "category = scores.columns[2]"
   ]
  },
  {
   "cell_type": "code",
   "execution_count": 26,
   "metadata": {},
   "outputs": [],
   "source": [
    "tonumeric = lambda x:pd.to_numeric(x, errors='coerce')\n",
    "for i in numeric:\n",
    "    scores[i] = tonumeric(scores[i])"
   ]
  },
  {
   "cell_type": "code",
   "execution_count": 27,
   "metadata": {},
   "outputs": [],
   "source": [
    "for i in numeric:\n",
    "    scores[i] = scores[i].fillna(0)"
   ]
  },
  {
   "cell_type": "code",
   "execution_count": 28,
   "metadata": {},
   "outputs": [
    {
     "data": {
      "text/html": [
       "<div>\n",
       "<style scoped>\n",
       "    .dataframe tbody tr th:only-of-type {\n",
       "        vertical-align: middle;\n",
       "    }\n",
       "\n",
       "    .dataframe tbody tr th {\n",
       "        vertical-align: top;\n",
       "    }\n",
       "\n",
       "    .dataframe thead th {\n",
       "        text-align: right;\n",
       "    }\n",
       "</style>\n",
       "<table border=\"1\" class=\"dataframe\">\n",
       "  <thead>\n",
       "    <tr style=\"text-align: right;\">\n",
       "      <th></th>\n",
       "      <th>Trop Score</th>\n",
       "      <th>Trop Pred Mort</th>\n",
       "      <th>ICU Survival</th>\n",
       "      <th>APACHE Score</th>\n",
       "      <th>APACHE Pred Mort</th>\n",
       "    </tr>\n",
       "  </thead>\n",
       "  <tbody>\n",
       "    <tr>\n",
       "      <th>0</th>\n",
       "      <td>30.0</td>\n",
       "      <td>6.0</td>\n",
       "      <td>Expired</td>\n",
       "      <td>25.0</td>\n",
       "      <td>53.3</td>\n",
       "    </tr>\n",
       "    <tr>\n",
       "      <th>1</th>\n",
       "      <td>27.0</td>\n",
       "      <td>5.5</td>\n",
       "      <td>Alive</td>\n",
       "      <td>18.0</td>\n",
       "      <td>29.1</td>\n",
       "    </tr>\n",
       "    <tr>\n",
       "      <th>2</th>\n",
       "      <td>15.0</td>\n",
       "      <td>3.5</td>\n",
       "      <td>Alive</td>\n",
       "      <td>8.0</td>\n",
       "      <td>8.7</td>\n",
       "    </tr>\n",
       "    <tr>\n",
       "      <th>3</th>\n",
       "      <td>7.0</td>\n",
       "      <td>1.0</td>\n",
       "      <td>Alive</td>\n",
       "      <td>6.0</td>\n",
       "      <td>6.7</td>\n",
       "    </tr>\n",
       "    <tr>\n",
       "      <th>4</th>\n",
       "      <td>0.0</td>\n",
       "      <td>0.0</td>\n",
       "      <td>Alive</td>\n",
       "      <td>5.0</td>\n",
       "      <td>5.8</td>\n",
       "    </tr>\n",
       "  </tbody>\n",
       "</table>\n",
       "</div>"
      ],
      "text/plain": [
       "   Trop Score  Trop Pred Mort ICU Survival  APACHE Score  APACHE Pred Mort\n",
       "0        30.0             6.0      Expired          25.0              53.3\n",
       "1        27.0             5.5        Alive          18.0              29.1\n",
       "2        15.0             3.5        Alive           8.0               8.7\n",
       "3         7.0             1.0        Alive           6.0               6.7\n",
       "4         0.0             0.0        Alive           5.0               5.8"
      ]
     },
     "execution_count": 28,
     "metadata": {},
     "output_type": "execute_result"
    }
   ],
   "source": [
    "scores.head()"
   ]
  },
  {
   "cell_type": "code",
   "execution_count": 29,
   "metadata": {},
   "outputs": [],
   "source": [
    "scores = pd.get_dummies(scores, drop_first=True)"
   ]
  },
  {
   "cell_type": "code",
   "execution_count": 30,
   "metadata": {},
   "outputs": [],
   "source": [
    "scores.to_csv('scores.csv')"
   ]
  },
  {
   "cell_type": "code",
   "execution_count": 48,
   "metadata": {},
   "outputs": [],
   "source": [
    "from sklearn.metrics import roc_curve\n",
    "from sklearn.metrics import roc_auc_score\n",
    "import matplotlib.pyplot as plt"
   ]
  },
  {
   "cell_type": "code",
   "execution_count": 40,
   "metadata": {},
   "outputs": [
    {
     "data": {
      "text/plain": [
       "array([0.533, 0.291, 0.087, ..., 0.099, 0.113, 0.038])"
      ]
     },
     "execution_count": 40,
     "metadata": {},
     "output_type": "execute_result"
    }
   ],
   "source": [
    "ap_pred_prob = scores.iloc[:, 3].values\n",
    "ap_pred_prob = ap_pred_prob/100\n",
    "ap_pred_prob"
   ]
  },
  {
   "cell_type": "code",
   "execution_count": 41,
   "metadata": {},
   "outputs": [
    {
     "data": {
      "text/plain": [
       "array([1, 0, 0, ..., 0, 0, 0], dtype=uint8)"
      ]
     },
     "execution_count": 41,
     "metadata": {},
     "output_type": "execute_result"
    }
   ],
   "source": [
    "targ = scores.iloc[:, 4].values\n",
    "targ"
   ]
  },
  {
   "cell_type": "code",
   "execution_count": 42,
   "metadata": {},
   "outputs": [
    {
     "name": "stdout",
     "output_type": "stream",
     "text": [
      "Final score (AUC) with APACHE is : 0.77\n"
     ]
    }
   ],
   "source": [
    "auc_ap = (roc_auc_score(targ, ap_pred_prob))\n",
    "print(\"Final score (AUC) with APACHE is : {}\".format(auc_ap.round(2)))"
   ]
  },
  {
   "cell_type": "code",
   "execution_count": 56,
   "metadata": {},
   "outputs": [
    {
     "name": "stdout",
     "output_type": "stream",
     "text": [
      "Optimal threshold for APACHE II model ROC is : 0.146\n"
     ]
    }
   ],
   "source": [
    "fpr_ap, tpr_ap, thresholds_ap = roc_curve(targ, ap_pred_prob)\n",
    "cutoff_ap = thresholds_ap[np.argmax(tpr_ap-fpr_ap)]\n",
    "print(\"Optimal threshold for APACHE II model ROC is : {}\".format(cutoff_ap.round(3)))"
   ]
  },
  {
   "cell_type": "code",
   "execution_count": 64,
   "metadata": {
    "scrolled": true
   },
   "outputs": [
    {
     "data": {
      "image/png": "[encoded data removed]",
      "text/plain": [
       "<Figure size 432x288 with 1 Axes>"
      ]
     },
     "metadata": {
      "needs_background": "light"
     },
     "output_type": "display_data"
    }
   ],
   "source": [
    "plt.figure()\n",
    "lw = 2\n",
    "plt.plot(fpr_ap, tpr_ap)\n",
    "plt.plot([0, 1], [0, 1], color='navy', lw=lw, linestyle='--', label='ROC curve (area = %0.2f)' % auc_ap.round(2))\n",
    "plt.xlim([0.0, 1.0])\n",
    "plt.ylim([0.0, 1.05])\n",
    "plt.xlabel('False Positive Rate')\n",
    "plt.ylabel('True Positive Rate')\n",
    "plt.title('Receiver operating characteristic curve of APACHE II model')\n",
    "plt.legend(loc=\"lower right\")\n",
    "\n",
    "plt.savefig('apache.png', format='png', dpi=1200)\n",
    "plt.show()"
   ]
  },
  {
   "cell_type": "code",
   "execution_count": 61,
   "metadata": {},
   "outputs": [
    {
     "data": {
      "text/plain": [
       "<Figure size 432x288 with 0 Axes>"
      ]
     },
     "metadata": {},
     "output_type": "display_data"
    }
   ],
   "source": [
    "plt.savefig('apache.png')"
   ]
  },
  {
   "cell_type": "code",
   "execution_count": 51,
   "metadata": {},
   "outputs": [],
   "source": [
    "tr_pred_prob = scores.iloc[:, 1].values\n",
    "tr_pred_prob = tr_pred_prob/100"
   ]
  },
  {
   "cell_type": "code",
   "execution_count": 52,
   "metadata": {},
   "outputs": [
    {
     "name": "stdout",
     "output_type": "stream",
     "text": [
      "Final score (AUC) with APACHE is : 0.79\n"
     ]
    }
   ],
   "source": [
    "auc_tr = (roc_auc_score(targ, tr_pred_prob))\n",
    "print(\"Final score (AUC) with APACHE is : {}\".format(auc_tr.round(2)))"
   ]
  },
  {
   "cell_type": "code",
   "execution_count": 57,
   "metadata": {},
   "outputs": [
    {
     "name": "stdout",
     "output_type": "stream",
     "text": [
      "Optimal threshold for TropICS model ROC is : 0.03\n"
     ]
    }
   ],
   "source": [
    "fpr_tr, tpr_tr, thresholds_tr = roc_curve(targ, tr_pred_prob)\n",
    "cutoff_tr = thresholds_tr[np.argmax(tpr_tr-fpr_tr)]\n",
    "print(\"Optimal threshold for TropICS model ROC is : {}\".format(cutoff_tr.round(3)))"
   ]
  },
  {
   "cell_type": "code",
   "execution_count": 65,
   "metadata": {},
   "outputs": [
    {
     "data": {
      "image/png": "[encoded data removed]",
      "text/plain": [
       "<Figure size 432x288 with 1 Axes>"
      ]
     },
     "metadata": {
      "needs_background": "light"
     },
     "output_type": "display_data"
    }
   ],
   "source": [
    "plt.figure()\n",
    "lw = 2\n",
    "plt.plot(fpr_tr, tpr_tr)\n",
    "plt.plot([0, 1], [0, 1], color='navy', lw=lw, linestyle='--', label='ROC curve (area = %0.2f)' % auc_tr.round(2))\n",
    "plt.xlim([0.0, 1.0])\n",
    "plt.ylim([0.0, 1.05])\n",
    "plt.xlabel('False Positive Rate')\n",
    "plt.ylabel('True Positive Rate')\n",
    "plt.title('Receiver operating characteristic curve of TropICS model')\n",
    "plt.legend(loc=\"lower right\")\n",
    "\n",
    "plt.savefig('trop.png', format='png', dpi=1200)\n",
    "plt.show()"
   ]
  },
  {
   "cell_type": "code",
   "execution_count": 63,
   "metadata": {},
   "outputs": [
    {
     "data": {
      "text/plain": [
       "<Figure size 432x288 with 0 Axes>"
      ]
     },
     "metadata": {},
     "output_type": "display_data"
    }
   ],
   "source": [
    "plt.savefig('trop.png')"
   ]
  },
  {
   "cell_type": "markdown",
   "metadata": {},
   "source": [
    "### Month1 scores"
   ]
  },
  {
   "cell_type": "code",
   "execution_count": 8,
   "metadata": {},
   "outputs": [],
   "source": [
    "scores = pd.read_csv('month1_scores.csv')"
   ]
  },
  {
   "cell_type": "code",
   "execution_count": 10,
   "metadata": {},
   "outputs": [
    {
     "data": {
      "text/html": [
       "<div>\n",
       "<style scoped>\n",
       "    .dataframe tbody tr th:only-of-type {\n",
       "        vertical-align: middle;\n",
       "    }\n",
       "\n",
       "    .dataframe tbody tr th {\n",
       "        vertical-align: top;\n",
       "    }\n",
       "\n",
       "    .dataframe thead th {\n",
       "        text-align: right;\n",
       "    }\n",
       "</style>\n",
       "<table border=\"1\" class=\"dataframe\">\n",
       "  <thead>\n",
       "    <tr style=\"text-align: right;\">\n",
       "      <th></th>\n",
       "      <th>TropICS score</th>\n",
       "      <th>Pred Mort</th>\n",
       "      <th>Survival</th>\n",
       "      <th>Tot-Score</th>\n",
       "      <th>PredMort</th>\n",
       "    </tr>\n",
       "  </thead>\n",
       "  <tbody>\n",
       "    <tr>\n",
       "      <th>0</th>\n",
       "      <td>14</td>\n",
       "      <td>3.0</td>\n",
       "      <td>Alive</td>\n",
       "      <td>7</td>\n",
       "      <td>7.6</td>\n",
       "    </tr>\n",
       "    <tr>\n",
       "      <th>1</th>\n",
       "      <td>20</td>\n",
       "      <td>4.5</td>\n",
       "      <td>Alive</td>\n",
       "      <td>6</td>\n",
       "      <td>6.7</td>\n",
       "    </tr>\n",
       "    <tr>\n",
       "      <th>2</th>\n",
       "      <td>11</td>\n",
       "      <td>2.5</td>\n",
       "      <td>Alive</td>\n",
       "      <td>2</td>\n",
       "      <td>3.8</td>\n",
       "    </tr>\n",
       "    <tr>\n",
       "      <th>3</th>\n",
       "      <td>14</td>\n",
       "      <td>3.0</td>\n",
       "      <td>Alive</td>\n",
       "      <td>13</td>\n",
       "      <td>16.5</td>\n",
       "    </tr>\n",
       "    <tr>\n",
       "      <th>4</th>\n",
       "      <td>11</td>\n",
       "      <td>2.5</td>\n",
       "      <td>Alive</td>\n",
       "      <td>12</td>\n",
       "      <td>14.6</td>\n",
       "    </tr>\n",
       "  </tbody>\n",
       "</table>\n",
       "</div>"
      ],
      "text/plain": [
       "   TropICS score  Pred Mort Survival  Tot-Score  PredMort\n",
       "0             14        3.0    Alive          7       7.6\n",
       "1             20        4.5    Alive          6       6.7\n",
       "2             11        2.5    Alive          2       3.8\n",
       "3             14        3.0    Alive         13      16.5\n",
       "4             11        2.5    Alive         12      14.6"
      ]
     },
     "execution_count": 10,
     "metadata": {},
     "output_type": "execute_result"
    }
   ],
   "source": [
    "scores.head()"
   ]
  },
  {
   "cell_type": "code",
   "execution_count": 9,
   "metadata": {},
   "outputs": [],
   "source": [
    "scores = scores.drop(['Name', 'CPMRN', 'Month of Admission', 'Age', 'Gender', 'Hospital'], axis=1)"
   ]
  },
  {
   "cell_type": "code",
   "execution_count": 11,
   "metadata": {},
   "outputs": [
    {
     "data": {
      "text/plain": [
       "TropICS score    0\n",
       "Pred Mort        0\n",
       "Survival         0\n",
       "Tot-Score        0\n",
       "PredMort         0\n",
       "dtype: int64"
      ]
     },
     "execution_count": 11,
     "metadata": {},
     "output_type": "execute_result"
    }
   ],
   "source": [
    "scores.isnull().sum()"
   ]
  },
  {
   "cell_type": "code",
   "execution_count": 12,
   "metadata": {},
   "outputs": [
    {
     "data": {
      "text/plain": [
       "(357, 5)"
      ]
     },
     "execution_count": 12,
     "metadata": {},
     "output_type": "execute_result"
    }
   ],
   "source": [
    "scores.shape"
   ]
  },
  {
   "cell_type": "code",
   "execution_count": 13,
   "metadata": {
    "scrolled": true
   },
   "outputs": [
    {
     "name": "stdout",
     "output_type": "stream",
     "text": [
      "<class 'pandas.core.frame.DataFrame'>\n",
      "RangeIndex: 357 entries, 0 to 356\n",
      "Data columns (total 5 columns):\n",
      "TropICS score    357 non-null int64\n",
      "Pred Mort        357 non-null float64\n",
      "Survival         357 non-null object\n",
      "Tot-Score        357 non-null int64\n",
      "PredMort         357 non-null float64\n",
      "dtypes: float64(2), int64(2), object(1)\n",
      "memory usage: 14.0+ KB\n"
     ]
    }
   ],
   "source": [
    "scores.info()"
   ]
  },
  {
   "cell_type": "code",
   "execution_count": 14,
   "metadata": {},
   "outputs": [],
   "source": [
    "numeric = scores.columns[[0,1,3,4]]\n",
    "category = scores.columns[2]"
   ]
  },
  {
   "cell_type": "code",
   "execution_count": 15,
   "metadata": {},
   "outputs": [],
   "source": [
    "tonumeric = lambda x:pd.to_numeric(x, errors='coerce')\n",
    "for i in numeric:\n",
    "    scores[i] = tonumeric(scores[i])"
   ]
  },
  {
   "cell_type": "code",
   "execution_count": 16,
   "metadata": {},
   "outputs": [],
   "source": [
    "for i in numeric:\n",
    "    scores[i] = scores[i].fillna(0)"
   ]
  },
  {
   "cell_type": "code",
   "execution_count": 17,
   "metadata": {},
   "outputs": [
    {
     "data": {
      "text/html": [
       "<div>\n",
       "<style scoped>\n",
       "    .dataframe tbody tr th:only-of-type {\n",
       "        vertical-align: middle;\n",
       "    }\n",
       "\n",
       "    .dataframe tbody tr th {\n",
       "        vertical-align: top;\n",
       "    }\n",
       "\n",
       "    .dataframe thead th {\n",
       "        text-align: right;\n",
       "    }\n",
       "</style>\n",
       "<table border=\"1\" class=\"dataframe\">\n",
       "  <thead>\n",
       "    <tr style=\"text-align: right;\">\n",
       "      <th></th>\n",
       "      <th>TropICS score</th>\n",
       "      <th>Pred Mort</th>\n",
       "      <th>Survival</th>\n",
       "      <th>Tot-Score</th>\n",
       "      <th>PredMort</th>\n",
       "    </tr>\n",
       "  </thead>\n",
       "  <tbody>\n",
       "    <tr>\n",
       "      <th>0</th>\n",
       "      <td>14</td>\n",
       "      <td>3.0</td>\n",
       "      <td>Alive</td>\n",
       "      <td>7</td>\n",
       "      <td>7.6</td>\n",
       "    </tr>\n",
       "    <tr>\n",
       "      <th>1</th>\n",
       "      <td>20</td>\n",
       "      <td>4.5</td>\n",
       "      <td>Alive</td>\n",
       "      <td>6</td>\n",
       "      <td>6.7</td>\n",
       "    </tr>\n",
       "    <tr>\n",
       "      <th>2</th>\n",
       "      <td>11</td>\n",
       "      <td>2.5</td>\n",
       "      <td>Alive</td>\n",
       "      <td>2</td>\n",
       "      <td>3.8</td>\n",
       "    </tr>\n",
       "    <tr>\n",
       "      <th>3</th>\n",
       "      <td>14</td>\n",
       "      <td>3.0</td>\n",
       "      <td>Alive</td>\n",
       "      <td>13</td>\n",
       "      <td>16.5</td>\n",
       "    </tr>\n",
       "    <tr>\n",
       "      <th>4</th>\n",
       "      <td>11</td>\n",
       "      <td>2.5</td>\n",
       "      <td>Alive</td>\n",
       "      <td>12</td>\n",
       "      <td>14.6</td>\n",
       "    </tr>\n",
       "  </tbody>\n",
       "</table>\n",
       "</div>"
      ],
      "text/plain": [
       "   TropICS score  Pred Mort Survival  Tot-Score  PredMort\n",
       "0             14        3.0    Alive          7       7.6\n",
       "1             20        4.5    Alive          6       6.7\n",
       "2             11        2.5    Alive          2       3.8\n",
       "3             14        3.0    Alive         13      16.5\n",
       "4             11        2.5    Alive         12      14.6"
      ]
     },
     "execution_count": 17,
     "metadata": {},
     "output_type": "execute_result"
    }
   ],
   "source": [
    "scores.head()"
   ]
  },
  {
   "cell_type": "code",
   "execution_count": 18,
   "metadata": {},
   "outputs": [],
   "source": [
    "scores = pd.get_dummies(scores, drop_first=True)"
   ]
  },
  {
   "cell_type": "code",
   "execution_count": 30,
   "metadata": {},
   "outputs": [],
   "source": [
    "scores.to_csv('scores.csv')"
   ]
  },
  {
   "cell_type": "code",
   "execution_count": 19,
   "metadata": {},
   "outputs": [],
   "source": [
    "from sklearn.metrics import roc_curve\n",
    "from sklearn.metrics import roc_auc_score\n",
    "import matplotlib.pyplot as plt"
   ]
  },
  {
   "cell_type": "code",
   "execution_count": 20,
   "metadata": {
    "scrolled": true
   },
   "outputs": [
    {
     "data": {
      "text/plain": [
       "array([0.076, 0.067, 0.038, 0.165, 0.146, 0.067, 0.639, 0.165, 0.076,\n",
       "       0.058, 0.165, 0.076, 0.051, 0.186, 0.044, 0.087, 0.058, 0.029,\n",
       "       0.129, 0.129, 0.751, 0.038, 0.058, 0.029, 0.038, 0.099, 0.165,\n",
       "       0.087, 0.186, 0.533, 0.497, 0.21 , 0.038, 0.087, 0.235, 0.076,\n",
       "       0.067, 0.186, 0.46 , 0.165, 0.235, 0.129, 0.076, 0.235, 0.058,\n",
       "       0.862, 0.733, 0.044, 0.099, 0.038, 0.029, 0.146, 0.087, 0.322,\n",
       "       0.291, 0.087, 0.322, 0.165, 0.067, 0.076, 0.058, 0.099, 0.051,\n",
       "       0.322, 0.067, 0.076, 0.067, 0.21 , 0.087, 0.322, 0.076, 0.058,\n",
       "       0.067, 0.186, 0.291, 0.113, 0.235, 0.051, 0.076, 0.033, 0.038,\n",
       "       0.146, 0.235, 0.146, 0.087, 0.067, 0.051, 0.844, 0.076, 0.058,\n",
       "       0.058, 0.235, 0.044, 0.389, 0.044, 0.235, 0.113, 0.355, 0.186,\n",
       "       0.038, 0.038, 0.038, 0.029, 0.235, 0.21 , 0.076, 0.051, 0.044,\n",
       "       0.129, 0.291, 0.129, 0.058, 0.076, 0.21 , 0.044, 0.235, 0.165,\n",
       "       0.038, 0.033, 0.044, 0.322, 0.113, 0.076, 0.038, 0.067, 0.044,\n",
       "       0.038, 0.038, 0.165, 0.592, 0.113, 0.21 , 0.21 , 0.129, 0.087,\n",
       "       0.186, 0.033, 0.044, 0.21 , 0.038, 0.146, 0.099, 0.038, 0.038,\n",
       "       0.029, 0.029, 0.262, 0.533, 0.113, 0.186, 0.044, 0.165, 0.058,\n",
       "       0.099, 0.165, 0.129, 0.044, 0.051, 0.424, 0.038, 0.076, 0.076,\n",
       "       0.605, 0.533, 0.051, 0.051, 0.113, 0.291, 0.044, 0.058, 0.038,\n",
       "       0.058, 0.076, 0.099, 0.033, 0.087, 0.146, 0.033, 0.058, 0.067,\n",
       "       0.067, 0.044, 0.165, 0.038, 0.099, 0.038, 0.099, 0.099, 0.038,\n",
       "       0.076, 0.146, 0.029, 0.044, 0.355, 0.557, 0.038, 0.076, 0.076,\n",
       "       0.029, 0.087, 0.113, 0.058, 0.165, 0.113, 0.129, 0.038, 0.058,\n",
       "       0.186, 0.087, 0.262, 0.029, 0.044, 0.033, 0.067, 0.029, 0.076,\n",
       "       0.076, 0.113, 0.389, 0.058, 0.067, 0.067, 0.044, 0.113, 0.146,\n",
       "       0.029, 0.058, 0.038, 0.424, 0.129, 0.029, 0.113, 0.058, 0.087,\n",
       "       0.291, 0.569, 0.067, 0.087, 0.076, 0.051, 0.051, 0.355, 0.058,\n",
       "       0.165, 0.067, 0.067, 0.058, 0.113, 0.186, 0.038, 0.186, 0.076,\n",
       "       0.044, 0.087, 0.165, 0.076, 0.165, 0.044, 0.076, 0.076, 0.044,\n",
       "       0.46 , 0.639, 0.322, 0.262, 0.029, 0.067, 0.087, 0.029, 0.113,\n",
       "       0.235, 0.038, 0.186, 0.186, 0.165, 0.067, 0.113, 0.129, 0.067,\n",
       "       0.051, 0.099, 0.146, 0.235, 0.235, 0.099, 0.076, 0.099, 0.186,\n",
       "       0.044, 0.099, 0.165, 0.076, 0.355, 0.044, 0.087, 0.146, 0.129,\n",
       "       0.029, 0.235, 0.087, 0.146, 0.113, 0.146, 0.129, 0.076, 0.146,\n",
       "       0.099, 0.038, 0.067, 0.113, 0.235, 0.186, 0.087, 0.113, 0.087,\n",
       "       0.029, 0.029, 0.165, 0.058, 0.044, 0.113, 0.099, 0.129, 0.146,\n",
       "       0.146, 0.693, 0.497, 0.146, 0.058, 0.322, 0.165, 0.113, 0.099,\n",
       "       0.129, 0.044, 0.703, 0.977, 0.038, 0.355, 0.029, 0.051, 0.802,\n",
       "       0.087, 0.067, 0.262, 0.058, 0.044, 0.165, 0.058, 0.21 , 0.831,\n",
       "       0.038, 0.113, 0.087, 0.165, 0.262, 0.029])"
      ]
     },
     "execution_count": 20,
     "metadata": {},
     "output_type": "execute_result"
    }
   ],
   "source": [
    "ap_pred_prob = scores.iloc[:, 3].values\n",
    "ap_pred_prob = ap_pred_prob/100\n",
    "ap_pred_prob"
   ]
  },
  {
   "cell_type": "code",
   "execution_count": 21,
   "metadata": {
    "scrolled": false
   },
   "outputs": [
    {
     "data": {
      "text/plain": [
       "array([0, 0, 0, 0, 0, 0, 0, 0, 0, 0, 0, 0, 0, 0, 0, 0, 0, 1, 0, 0, 0, 0,\n",
       "       0, 0, 0, 0, 0, 0, 0, 1, 0, 0, 0, 0, 0, 0, 0, 0, 0, 0, 0, 0, 0, 0,\n",
       "       0, 0, 0, 0, 0, 0, 0, 0, 0, 0, 1, 0, 0, 1, 0, 0, 0, 0, 0, 0, 0, 0,\n",
       "       0, 0, 0, 0, 1, 0, 0, 0, 0, 0, 1, 0, 0, 0, 0, 0, 1, 0, 0, 0, 0, 0,\n",
       "       0, 0, 0, 0, 0, 0, 0, 0, 0, 0, 0, 0, 0, 0, 0, 0, 0, 0, 0, 0, 0, 1,\n",
       "       0, 0, 1, 0, 0, 1, 0, 0, 0, 0, 0, 0, 0, 0, 0, 0, 0, 0, 1, 0, 0, 0,\n",
       "       0, 0, 0, 1, 1, 1, 0, 0, 0, 0, 0, 0, 0, 0, 0, 0, 0, 0, 0, 0, 0, 1,\n",
       "       1, 1, 1, 1, 0, 0, 0, 0, 1, 1, 1, 0, 0, 0, 0, 0, 0, 0, 0, 0, 0, 0,\n",
       "       0, 0, 0, 0, 0, 0, 0, 0, 0, 0, 0, 0, 0, 0, 0, 0, 0, 0, 0, 0, 0, 1,\n",
       "       0, 0, 0, 0, 0, 0, 0, 0, 0, 0, 0, 1, 0, 0, 0, 0, 0, 0, 0, 0, 0, 0,\n",
       "       1, 1, 0, 0, 0, 0, 0, 0, 0, 1, 0, 0, 0, 0, 1, 0, 0, 0, 0, 0, 0, 0,\n",
       "       0, 0, 0, 0, 0, 0, 0, 0, 0, 0, 0, 0, 0, 0, 0, 0, 0, 0, 0, 0, 1, 0,\n",
       "       1, 0, 0, 0, 0, 0, 1, 0, 0, 0, 0, 0, 1, 0, 0, 0, 0, 0, 0, 0, 0, 1,\n",
       "       0, 1, 0, 0, 0, 0, 0, 0, 0, 0, 0, 0, 0, 1, 1, 0, 0, 0, 0, 0, 0, 0,\n",
       "       0, 0, 0, 0, 0, 0, 0, 0, 0, 0, 0, 0, 0, 0, 0, 0, 0, 0, 0, 0, 0, 0,\n",
       "       1, 0, 0, 0, 0, 1, 0, 1, 0, 0, 0, 0, 0, 1, 0, 0, 1, 0, 0, 1, 0, 0,\n",
       "       0, 0, 0, 1, 0], dtype=uint8)"
      ]
     },
     "execution_count": 21,
     "metadata": {},
     "output_type": "execute_result"
    }
   ],
   "source": [
    "targ = scores.iloc[:, 4].values\n",
    "targ"
   ]
  },
  {
   "cell_type": "code",
   "execution_count": 22,
   "metadata": {},
   "outputs": [
    {
     "name": "stdout",
     "output_type": "stream",
     "text": [
      "Final score (AUC) with APACHE is : 0.63\n"
     ]
    }
   ],
   "source": [
    "auc_ap = (roc_auc_score(targ, ap_pred_prob))\n",
    "print(\"Final score (AUC) with APACHE is : {}\".format(auc_ap.round(2)))"
   ]
  },
  {
   "cell_type": "code",
   "execution_count": 25,
   "metadata": {},
   "outputs": [
    {
     "name": "stdout",
     "output_type": "stream",
     "text": [
      "Optimal threshold for APACHE II model ROC is : 0.165\n"
     ]
    }
   ],
   "source": [
    "fpr_ap, tpr_ap, thresholds_ap = roc_curve(targ, ap_pred_prob)\n",
    "cutoff_ap = thresholds_ap[np.argmax(tpr_ap-fpr_ap)]\n",
    "print(\"Optimal threshold for APACHE II model ROC is : {}\".format(cutoff_ap.round(3)))"
   ]
  },
  {
   "cell_type": "code",
   "execution_count": 26,
   "metadata": {
    "scrolled": true
   },
   "outputs": [
    {
     "data": {
      "image/png": "[encoded data removed]",
      "text/plain": [
       "<Figure size 432x288 with 1 Axes>"
      ]
     },
     "metadata": {
      "needs_background": "light"
     },
     "output_type": "display_data"
    }
   ],
   "source": [
    "plt.figure()\n",
    "lw = 2\n",
    "plt.plot(fpr_ap, tpr_ap)\n",
    "plt.plot([0, 1], [0, 1], color='navy', lw=lw, linestyle='--', label='ROC curve (area = %0.2f)' % auc_ap.round(2))\n",
    "plt.xlim([0.0, 1.0])\n",
    "plt.ylim([0.0, 1.05])\n",
    "plt.xlabel('False Positive Rate')\n",
    "plt.ylabel('True Positive Rate')\n",
    "plt.title('Receiver operating characteristic curve of APACHE II model')\n",
    "plt.legend(loc=\"lower right\")\n",
    "\n",
    "plt.savefig('apache.png', format='png', dpi=1200)\n",
    "plt.show()"
   ]
  },
  {
   "cell_type": "code",
   "execution_count": 61,
   "metadata": {},
   "outputs": [
    {
     "data": {
      "text/plain": [
       "<Figure size 432x288 with 0 Axes>"
      ]
     },
     "metadata": {},
     "output_type": "display_data"
    }
   ],
   "source": [
    "plt.savefig('apache.png')"
   ]
  },
  {
   "cell_type": "code",
   "execution_count": 27,
   "metadata": {},
   "outputs": [],
   "source": [
    "tr_pred_prob = scores.iloc[:, 1].values\n",
    "tr_pred_prob = tr_pred_prob/100"
   ]
  },
  {
   "cell_type": "code",
   "execution_count": 28,
   "metadata": {},
   "outputs": [
    {
     "name": "stdout",
     "output_type": "stream",
     "text": [
      "Final score (AUC) with APACHE is : 0.63\n"
     ]
    }
   ],
   "source": [
    "auc_tr = (roc_auc_score(targ, tr_pred_prob))\n",
    "print(\"Final score (AUC) with APACHE is : {}\".format(auc_tr.round(2)))"
   ]
  },
  {
   "cell_type": "code",
   "execution_count": 29,
   "metadata": {},
   "outputs": [
    {
     "name": "stdout",
     "output_type": "stream",
     "text": [
      "Optimal threshold for TropICS model ROC is : 0.035\n"
     ]
    }
   ],
   "source": [
    "fpr_tr, tpr_tr, thresholds_tr = roc_curve(targ, tr_pred_prob)\n",
    "cutoff_tr = thresholds_tr[np.argmax(tpr_tr-fpr_tr)]\n",
    "print(\"Optimal threshold for TropICS model ROC is : {}\".format(cutoff_tr.round(3)))"
   ]
  },
  {
   "cell_type": "code",
   "execution_count": 65,
   "metadata": {},
   "outputs": [
    {
     "data": {
      "image/png": "[encoded data removed]",
      "text/plain": [
       "<Figure size 432x288 with 1 Axes>"
      ]
     },
     "metadata": {
      "needs_background": "light"
     },
     "output_type": "display_data"
    }
   ],
   "source": [
    "plt.figure()\n",
    "lw = 2\n",
    "plt.plot(fpr_tr, tpr_tr)\n",
    "plt.plot([0, 1], [0, 1], color='navy', lw=lw, linestyle='--', label='ROC curve (area = %0.2f)' % auc_tr.round(2))\n",
    "plt.xlim([0.0, 1.0])\n",
    "plt.ylim([0.0, 1.05])\n",
    "plt.xlabel('False Positive Rate')\n",
    "plt.ylabel('True Positive Rate')\n",
    "plt.title('Receiver operating characteristic curve of TropICS model')\n",
    "plt.legend(loc=\"lower right\")\n",
    "\n",
    "plt.savefig('trop.png', format='png', dpi=1200)\n",
    "plt.show()"
   ]
  },
  {
   "cell_type": "code",
   "execution_count": 63,
   "metadata": {},
   "outputs": [
    {
     "data": {
      "text/plain": [
       "<Figure size 432x288 with 0 Axes>"
      ]
     },
     "metadata": {},
     "output_type": "display_data"
    }
   ],
   "source": [
    "plt.savefig('trop.png')"
   ]
  }
 ],
 "metadata": {
  "kernelspec": {
   "display_name": "Python 3",
   "language": "python",
   "name": "python3"
  },
  "language_info": {
   "codemirror_mode": {
    "name": "ipython",
    "version": 3
   },
   "file_extension": ".py",
   "mimetype": "text/x-python",
   "name": "python",
   "nbconvert_exporter": "python",
   "pygments_lexer": "ipython3",
   "version": "3.7.1"
  }
 },
 "nbformat": 4,
 "nbformat_minor": 2
}
