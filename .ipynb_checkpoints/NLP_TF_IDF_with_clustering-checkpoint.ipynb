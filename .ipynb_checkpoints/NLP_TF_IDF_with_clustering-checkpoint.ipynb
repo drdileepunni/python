{
 "cells": [
  {
   "cell_type": "code",
   "execution_count": 69,
   "metadata": {},
   "outputs": [
    {
     "name": "stdout",
     "output_type": "stream",
     "text": [
      "/home/dileep/Desktop/python\r\n"
     ]
    }
   ],
   "source": [
    "!pwd"
   ]
  },
  {
   "cell_type": "code",
   "execution_count": 70,
   "metadata": {},
   "outputs": [],
   "source": [
    "import pandas as pd\n",
    "import numpy as np\n",
    "import matplotlib.pyplot as plt"
   ]
  },
  {
   "cell_type": "code",
   "execution_count": 206,
   "metadata": {},
   "outputs": [
    {
     "name": "stderr",
     "output_type": "stream",
     "text": [
      "/home/dileep/anaconda3/envs/cpcv/lib/python3.7/site-packages/ipykernel_launcher.py:3: SettingWithCopyWarning: \n",
      "A value is trying to be set on a copy of a slice from a DataFrame.\n",
      "Try using .loc[row_indexer,col_indexer] = value instead\n",
      "\n",
      "See the caveats in the documentation: http://pandas.pydata.org/pandas-docs/stable/indexing.html#indexing-view-versus-copy\n",
      "  This is separate from the ipykernel package so we can avoid doing imports until\n"
     ]
    }
   ],
   "source": [
    "txt = pd.read_csv('with_med.csv')\n",
    "com = txt[['Text', 'Unnamed: 35']]\n",
    "com['merge'] = com[['Text', 'Unnamed: 35']].apply(lambda x: ''.join(x), axis=1)\n",
    "text = com['merge']\n",
    "med = com['Unnamed: 35']"
   ]
  },
  {
   "cell_type": "code",
   "execution_count": 192,
   "metadata": {},
   "outputs": [
    {
     "name": "stderr",
     "output_type": "stream",
     "text": [
      "[nltk_data] Downloading package stopwords to /home/dileep/nltk_data...\n",
      "[nltk_data]   Package stopwords is already up-to-date!\n"
     ]
    },
    {
     "data": {
      "text/plain": [
       "True"
      ]
     },
     "execution_count": 192,
     "metadata": {},
     "output_type": "execute_result"
    }
   ],
   "source": [
    "from sklearn.feature_extraction.text import CountVectorizer\n",
    "from sklearn.feature_extraction.text import HashingVectorizer\n",
    "from nltk.tokenize import regexp_tokenize\n",
    "from nltk.stem import WordNetLemmatizer\n",
    "from nltk.corpus import stopwords\n",
    "from collections import Counter\n",
    "from collections import defaultdict\n",
    "import nltk\n",
    "nltk.download('stopwords')"
   ]
  },
  {
   "cell_type": "code",
   "execution_count": 179,
   "metadata": {},
   "outputs": [],
   "source": [
    "# Tokenizing text\n",
    "text = text.values\n",
    "text = text.tolist()\n",
    "pattern = '[A-Za-z0-9]+(?=\\\\s+)'\n",
    "text_tokenized = [regexp_tokenize(t.lower(), pattern) for t in text]"
   ]
  },
  {
   "cell_type": "code",
   "execution_count": 167,
   "metadata": {},
   "outputs": [],
   "source": [
    "# Processing tokenized text\n",
    "\n",
    "# Removing numerics and symbols\n",
    "for i in range(len(text_tokenized)):\n",
    "    text_tokenized[i] = [t for t in text_tokenized[i] if t.isalpha()]\n",
    "    \n",
    "# Removing stop words\n",
    "english_stops = set(stopwords.words('english'))\n",
    "for i in range(len(text_tokenized)):\n",
    "    text_tokenized[i] = [t for t in text_tokenized[i] if t not in english_stops]\n",
    "\n",
    "# Lemmatizing words\n",
    "wordnet_lemmatizer = WordNetLemmatizer()\n",
    "for i in range(len(text_tokenized)):\n",
    "    text_tokenized[i] = [wordnet_lemmatizer.lemmatize(t) for t in text_tokenized[i]]\n"
   ]
  },
  {
   "cell_type": "code",
   "execution_count": 168,
   "metadata": {},
   "outputs": [],
   "source": [
    "# Creating dictionary\n",
    "from gensim.corpora.dictionary import Dictionary\n",
    "dictionary = Dictionary(text_tokenized)\n",
    "\n",
    "# Creating corpus of (word_id,word_count) from dictionary\n",
    "corpus = [dictionary.doc2bow(text) for text in text_tokenized]"
   ]
  },
  {
   "cell_type": "code",
   "execution_count": 169,
   "metadata": {},
   "outputs": [],
   "source": [
    "from gensim.models.tfidfmodel import TfidfModel\n",
    "\n",
    "# Creating a TF-IDF weighted list of words from the model\n",
    "tfidf = TfidfModel(corpus)\n",
    "nlp = [[] for i in range(len(corpus))]\n",
    "\n",
    "for i in range(len(corpus)):\n",
    "    tfidf_weights = tfidf[corpus[i]]\n",
    "    sorted_tfidf_weights = sorted(tfidf_weights, key=lambda w: w[1], reverse=True)\n",
    "    for term_id, weight in sorted_tfidf_weights[:10]:\n",
    "        nlp[i].append(dictionary.get(term_id))"
   ]
  },
  {
   "cell_type": "code",
   "execution_count": 170,
   "metadata": {},
   "outputs": [
    {
     "data": {
      "text/plain": [
       "(2196, 10)"
      ]
     },
     "execution_count": 170,
     "metadata": {},
     "output_type": "execute_result"
    }
   ],
   "source": [
    "from pandas import DataFrame\n",
    "\n",
    "# Changing the list of lists inot a dataframe\n",
    "nlp = DataFrame.from_records(nlp)\n",
    "\n",
    "nlp.shape"
   ]
  },
  {
   "cell_type": "code",
   "execution_count": 171,
   "metadata": {},
   "outputs": [],
   "source": [
    "nlp.to_csv('NLP.csv', index=False)"
   ]
  },
  {
   "cell_type": "markdown",
   "metadata": {},
   "source": [
    " "
   ]
  },
  {
   "cell_type": "markdown",
   "metadata": {},
   "source": [
    "## Clustering using med and text"
   ]
  },
  {
   "cell_type": "code",
   "execution_count": 251,
   "metadata": {},
   "outputs": [],
   "source": [
    "from sklearn.feature_extraction.text import TfidfVectorizer\n",
    "from nltk.tokenize import word_tokenize\n",
    "import re\n",
    "\n",
    "def remove_noise(text, stop_words = []):\n",
    "    tokens = word_tokenize(text)\n",
    "    cleaned_tokens = []\n",
    "    for token in tokens:\n",
    "        token = re.sub('[^A-Za-z0-9]+', '', token)\n",
    "        if len(token) > 1 and token.lower() not in stop_words:\n",
    "            cleaned_tokens.append(token.lower())\n",
    "    return cleaned_tokens\n",
    "\n",
    "# Initialize TfidfVectorizer\n",
    "tfidf_vectorizer = TfidfVectorizer(max_df = 0.1, max_features=20000, tokenizer=remove_noise)\n",
    "\n",
    "tfidf_matrix = tfidf_vectorizer.fit_transform(text)"
   ]
  },
  {
   "cell_type": "code",
   "execution_count": 234,
   "metadata": {},
   "outputs": [
    {
     "data": {
      "text/plain": [
       "<matplotlib.axes._subplots.AxesSubplot at 0x7fc1ec9d9a20>"
      ]
     },
     "execution_count": 234,
     "metadata": {},
     "output_type": "execute_result"
    },
    {
     "data": {
      "image/png": "[encoded data removed]",
      "text/plain": [
       "<Figure size 432x288 with 1 Axes>"
      ]
     },
     "metadata": {
      "needs_background": "light"
     },
     "output_type": "display_data"
    }
   ],
   "source": [
    "# Creating elbow plot\n",
    "distortions = []\n",
    "num_clusters = range(2,15)\n",
    "for i in num_clusters:\n",
    "    centroids, distortion = kmeans(tfidf_matrix.todense(), i)\n",
    "    distortions.append(distortion)\n",
    "\n",
    "# Plotting\n",
    "elbow_plot_data = pd.DataFrame({'num_clusters': num_clusters, \n",
    "                                'distortions': distortions})\n",
    "import seaborn as sns\n",
    "sns.lineplot(x='num_clusters', y='distortions', data=elbow_plot_data)"
   ]
  },
  {
   "cell_type": "code",
   "execution_count": 252,
   "metadata": {
    "scrolled": true
   },
   "outputs": [
    {
     "name": "stdout",
     "output_type": "stream",
     "text": [
      "['injury', 'fall', 'alleged', 'fracture', 'bike', 'sustained', 'fast', 'wound', 'over', 'tetanus', 'toxoid', 'injuries', 'loc', 'report', 'xray', 'scalp', 'bleed', 'shoulder', 'ear', 'scan', 'lacerated', 'ortho', 'mannitol', 'leg', 'forehead', 'sutured', 'opinion', 'observation', 'multiple', 'sah']\n",
      "['mannitol', 'antiedema', 'saline', 'measures', 'bleed', 'fall', 'neuromonitoring', 'weakness', 'labetalol', 'shift', 'edema', 'keep', 'sah', 'opinion', 'midline', 'temporal', 'sided', 'neurosurgery', 'intubation', 'sdh', 'sbp', 'side', 'mass', 'extension', 'perilesional', 'intraventricular', 'frontal', 'loc', 'close', 'bike']\n",
      "['surgeons', 'situ', 'dc', 'flap', 'resection', 'buccal', 'mucosa', 'colon', 'tube', 'exploratory', 'unsupported', 'feeding', 'tpiece', 'saturating', 'laprotomy', 'cefoperazonesulbactam', 'awake', 'sating', 'surgery', 'cefoperazone', 'okay', 'foley', 'doses', 'stomach', 'overnight', 'mask', 'cefuroxime', 'wle', 'plan', 'sc']\n",
      "['aspirin', 'clopidogrel', 'speech', 'atorvastatin', 'weakness', 'enoxaparin', 'antiplatelets', 'sided', 'stroke', 'st', 'infarct', '2d', 'carotid', 'stemi', 'inferior', 'rosuvastatin', 'doppler', 'lipid', 'trop', 'leads', 'loss', 'wall', 'profile', 'slurred', 'mri', 'slurring', 'thrombolysis', 'amlodipine', 'infusion', 'mi']\n",
      "['she', 'mask', 'conscious', 'sats', '2l', 'diabetic', 'breast', 'face', 'range', 'under', 'status', 'surgeon', 'am', 'endo', 'e4', 'ga', 'bm', 'm6', 'team', 'v5', 'making', 'discontinue', 'signs', 'sepsis', 'advice', 'non', 'mrm', 'postoperative', 'diagnosed', 'foleys']\n",
      "['injuries', 'injury', 'look', 'cervical', 'cvsok', 'secondary', 'fractures', 'gcs1515', 'final', 'spine', 'survey', 'bone', 'aho', 'neuromonitoring', 'alleged', 'lab', 'tissue', 'wounds', 'long', 'rsstable', 'other', 'cnsgcs1515', 'report', 'facial', 'maxillofacial', 'multiple', 'opinion', 'peripheral', 'collect', 'fall']\n",
      "['oxygenation', 'haemodynamics', 'maintainance', 'ivf', 'ray', 'ceftrioxone', 'emperic', 'haemodynamically', 'ulcer', 'antibiotic', 'analgesics', 'deficiets', 'neurological', 'consult', 'adviced', 'tonight', 'injury', 'report', 'interactive', 'minimal', 'sulbactum', 'having', 'out', 'asked', 'looks', 'put', 'radiological', 'clear', 'recieved', 're']\n",
      "['vomiting', 'sensorium', 'send', 'loose', 'seizures', 'stools', 'episodes', 'altered', 'abdominal', 'outputs', 'headache', 'commands', 'stool', 'episode', 'vomitting', 'consumption', 'comes', 'pw', 'saturating', 'weakness', 'ground', 'alleged', 'obeys', 'tazobactam', 'hospital', 'currently', 'alcoholic', 'sodium', 'liver', 'here']\n",
      "['tracheostomy', 'amikacin', 'usual', 'regimen', 'total', 'cefuroxime', 'neck', 'stopping', 'tongue', 'thyroidectomy', 'surgeon', 'oxygen', 'flap', 'thyroid', 'litres', 'radical', 'cover', 'dexamethasone', 'wean', 'dissection', 'outputs', '100', 'fusion', 'stridor', 'sc', 'hours', 'fluids', 'sulbactum', 'postop', 'doses']\n",
      "['hydration', 'saturations', 'bpm', 'rectum', 'closure', 'outputs', 'rsmaintaining', 'colostomy', 'sensorium', 'wf', 'cnsconscious', 'ml', 'trace', 'altered', 'total', 'colon', 'drowsy', 'laparotomy', 'min', 'cnsok', 'tazobactam', 'comorbidities', 'piperacillin', 'mask', 'aggressive', 'ltr', 'drain', 'lab', 'carcinoma', 'obeys']\n",
      "['niv', 'copd', 'breathlessness', 'cough', 'budesonide', 'azithromycin', 'bromide', 'difficulty', 'ipratropium', 'levosalbutamol', 'clarithromycin', 'salbutamol', '2d', 'acidosis', 'tazobactam', 'respiratory', 'bloods', 'sob', 'sputum', 'ipratrotropium', 'pulmonary', 'exacerbation', 'piperacillin', 'comes', 'bipap', 'frusemide', 'acute', 'ntg', 'infusion', 'hydrocortisone']\n",
      "['icd', 'sodium', 'get', 'noradrenaline', 'given', 'pleural', 'lung', 'am', 'fluid', 'ckd', 'possible', 'been', 'she', 'cxray', 'bicarbonate', 'breathlessness', 'effusion', 'meropenem', 'insertion', 'hyponatremia', 'hypotension', 'low', 'diet', 'which', 'stat', 'any', 'intubated', 'please', 'we', 'infusion']\n",
      "['ovary', 'ovarian', 'cytoreduction', 'surgery', 'cytoreductive', 'sc', 'regimen', 'usual', '5000u', 'caovary', 'stopping', '100', 'litres', 'injheparin', 'bd', 'hrs', 'tid', 'wean', 'oxygen', 'postoperative', 'surgeon', 'sulbactum', 'getting', 'cover', '100mlhour', 'uneventful', 'prbc', 'insulin', 'cyto', '50']\n",
      "['breast', 'mrm', 'lt', 'ad', 'usual', 'bcs', 'regimen', 'issues', 'caleft', 'mobilized', 'hours', 'mobilize', 'amoxicillin', 'lump', 'clavulanic', 'acid', 'postop', '24', 'ra', 'observation', 'mask', 'voiding', 'sc', 'wean', 'plan', 'bid', '24hrs', 'surgeons', 'self', 'use']\n",
      "['postoperative', 'ensure', 'analgesia', 'cvsok', 'rsstable', 'cnsconscious', 'diagnosed', 'ginpo', 'carcinoma', 'drain', 'collect', 'renalsuo', 'breast', 'lab', 'operated', 'excision', 'endoblood', 'dissection', 'craniotomy', 'preoperative', 'cefuroxime', 'postoperatively', 'minimal', 'intraoperatively', 'comorbids', 'radical', 'mrm', 'wound', 'flap', 'wf']\n"
     ]
    }
   ],
   "source": [
    "from scipy.cluster.vq import kmeans, vq\n",
    "\n",
    "num_clusters = 15\n",
    "\n",
    "cluster_centers, distortion = kmeans(tfidf_matrix.todense(), num_clusters)\n",
    "\n",
    "terms = tfidf_vectorizer.get_feature_names()\n",
    "\n",
    "for i in range(num_clusters):\n",
    "    center_terms = dict(zip(terms, list(cluster_centers[i])))\n",
    "    sorted_terms = sorted(center_terms, key=center_terms.get, reverse=True)\n",
    "    print(sorted_terms[:30])"
   ]
  },
  {
   "cell_type": "code",
   "execution_count": 273,
   "metadata": {},
   "outputs": [],
   "source": [
    "words_df = pd.DataFrame(tfidf_matrix.todense())"
   ]
  },
  {
   "cell_type": "code",
   "execution_count": 275,
   "metadata": {},
   "outputs": [],
   "source": [
    "words_df['label'], _ = vq(words_df, cluster_centers)"
   ]
  },
  {
   "cell_type": "code",
   "execution_count": 294,
   "metadata": {
    "scrolled": true
   },
   "outputs": [],
   "source": [
    "labels = words_df['label']"
   ]
  },
  {
   "cell_type": "code",
   "execution_count": 296,
   "metadata": {},
   "outputs": [],
   "source": [
    "pd.DataFrame(labels).to_csv('labels.csv')"
   ]
  },
  {
   "cell_type": "markdown",
   "metadata": {},
   "source": [
    " "
   ]
  },
  {
   "cell_type": "markdown",
   "metadata": {},
   "source": [
    "## Clustering using med"
   ]
  },
  {
   "cell_type": "code",
   "execution_count": 237,
   "metadata": {},
   "outputs": [],
   "source": [
    "from sklearn.feature_extraction.text import TfidfVectorizer\n",
    "from nltk.tokenize import word_tokenize\n",
    "import re\n",
    "\n",
    "def remove_noise(text, stop_words = []):\n",
    "    tokens = word_tokenize(text)\n",
    "    cleaned_tokens = []\n",
    "    for token in tokens:\n",
    "        token = re.sub('[^A-Za-z0-9]+', '', token)\n",
    "        if len(token) > 1 and token.lower() not in stop_words:\n",
    "            cleaned_tokens.append(token.lower())\n",
    "    return cleaned_tokens\n",
    "\n",
    "# Initialize TfidfVectorizer\n",
    "tfidf_vectorizer = TfidfVectorizer(max_features=50, tokenizer=remove_noise)\n",
    "\n",
    "tfidf_matrix = tfidf_vectorizer.fit_transform(med)"
   ]
  },
  {
   "cell_type": "code",
   "execution_count": 242,
   "metadata": {},
   "outputs": [
    {
     "name": "stdout",
     "output_type": "stream",
     "text": [
      "['pantoprazole', 'ondansetron', 'paracetamol', 'ceftriaxone', 'tramadol', 'metronidazole', 'acid', 'clavulanic', 'diclofenac', 'amoxicillin', 'tetanus', 'day', 'toxoid', 'sulbactam', 'cefuroxime', 'dexamethasone', 'cefoperazone', 'amikacin', 'cefoperazonesulbactam', 'tazobactam']\n",
      "['levetiracetam', 'mannitol', 'ondansetron', 'pantoprazole', 'ceftriaxone', 'saline', 'paracetamol', 'citicoline', 'cefuroxime', 'day', 'dexamethasone', 'diclofenac', 'amlodipine', 'labetalol', 'tetanus', 'tramadol', 'tazobactam', 'sulbactam', 'toxoid', 'chloride']\n",
      "['day', 'pantoprazole', 'budesonide', 'tazobactam', 'piperacillin', 'paracetamol', 'potassium', 'bromide', 'chloride', 'ceftriaxone', 'ipratropium', 'ondansetron', 'levosalbutamol', 'noradrenaline', 'salbutamol', 'sodium', 'amlodipine', 'azithromycin', 'saline', 'tramadol']\n",
      "['sulbactam', 'ranitidine', 'ceftriaxone', 'diclofenac', 'tramadol', 'metronidazole', 'day', 'paracetamol', 'pantoprazole', 'sodium', 'amikacin', 'labetalol', 'cefoperazonesulbactam', 'ondansetron', 'amlodipine', 'fentanyl', 'levosalbutamol', 'bromide', 'ipratropium', 'saline']\n",
      "['aspirin', 'clopidogrel', 'atorvastatin', 'enoxaparin', 'pantoprazole', 'amlodipine', 'heparin', 'ondansetron', 'ceftriaxone', 'citicoline', 'furosemide', 'budesonide', 'noradrenaline', 'saline', 'day', 'labetalol', 'levetiracetam', 'frusemide', 'paracetamol', 'bromide']\n"
     ]
    }
   ],
   "source": [
    "from scipy.cluster.vq import kmeans, vq\n",
    "\n",
    "num_clusters = 5\n",
    "\n",
    "cluster_centers, distortion = kmeans(tfidf_matrix.todense(), num_clusters)\n",
    "\n",
    "terms = tfidf_vectorizer.get_feature_names()\n",
    "\n",
    "for i in range(num_clusters):\n",
    "    center_terms = dict(zip(terms, list(cluster_centers[i])))\n",
    "    sorted_terms = sorted(center_terms, key=center_terms.get, reverse=True)\n",
    "    print(sorted_terms[:20])"
   ]
  },
  {
   "cell_type": "markdown",
   "metadata": {},
   "source": [
    " "
   ]
  }
 ],
 "metadata": {
  "kernelspec": {
   "display_name": "Python 3",
   "language": "python",
   "name": "python3"
  },
  "language_info": {
   "codemirror_mode": {
    "name": "ipython",
    "version": 3
   },
   "file_extension": ".py",
   "mimetype": "text/x-python",
   "name": "python",
   "nbconvert_exporter": "python",
   "pygments_lexer": "ipython3",
   "version": "3.7.3"
  }
 },
 "nbformat": 4,
 "nbformat_minor": 2
}
