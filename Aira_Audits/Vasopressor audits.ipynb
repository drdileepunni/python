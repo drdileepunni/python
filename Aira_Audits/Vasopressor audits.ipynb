{
 "cells": [
  {
   "cell_type": "code",
   "execution_count": 3,
   "metadata": {},
   "outputs": [],
   "source": [
    "import json\n",
    "with open('patients_market.json') as json_file:\n",
    "    all_pats = json.load(json_file)"
   ]
  },
  {
   "cell_type": "code",
   "execution_count": 72,
   "metadata": {},
   "outputs": [
    {
     "name": "stdout",
     "output_type": "stream",
     "text": [
      "############ NOTES ENTERED BY RNs #############\n",
      "\n",
      "Changed the dilution to 2 amps in 46ml NS\n",
      "-------------\n",
      "site ok no swelling, protocol follwed.\n",
      "-------------\n",
      "infusion diluted in 50ml NS 2 AMP, changed to 2amp in 500ml NS and peripheral vasopressor protocol followed, left arm iv canula placed, site ok, no swelling\n",
      "-------------\n",
      "CVC LINE INSERTED\n",
      "-------------\n",
      "2 amp in 50ml NS, vasopressor protocol not followed, advised to insert CVP line\n",
      "-------------\n",
      "CVP line inserted\n",
      "-------------\n",
      "VIP SCORE-0, INCREASED TO 7 ML/HR\n",
      "-------------\n",
      "######### SUMMARY AUGUST FIRST TWO WEEKS #################\n",
      "\n",
      "Total patinets: 204\n",
      "Number of pressor patients: 11\n",
      "Total numbeer of infusion hours: 46\n",
      "Number of notes entered: 7\n"
     ]
    }
   ],
   "source": [
    "getPressorReport(vaso)"
   ]
  },
  {
   "cell_type": "code",
   "execution_count": 71,
   "metadata": {
    "scrolled": false
   },
   "outputs": [],
   "source": [
    "def getPressorReport(vaso):\n",
    "    total_hours_of_infusion = 0\n",
    "    pat_hours_of_infusion = 0\n",
    "    number_of_notes_entered = 0\n",
    "    notes = 0\n",
    "    temp = []; n_temp = []; pat_list = []; note_list = []\n",
    "    print('############ NOTES ENTERED BY RNs #############\\n')\n",
    "    for i in range(len(vaso)):\n",
    "        days_ls = vaso[i].get('io').get('days')\n",
    "        for j in range(len(days_ls)):\n",
    "            hours_ls = days_ls[j].get('hours')\n",
    "            for k in range(len(hours_ls)):\n",
    "                mins_ls = hours_ls[k].get('minutes')\n",
    "                for l in range(len(mins_ls)):\n",
    "                    infusion = mins_ls[l].get('intake').get('meds').get('infusion')\n",
    "                    for m in range(len(infusion)):\n",
    "                        infusion_name = infusion[m].get('name')\n",
    "                        note = infusion[m].get('note')\n",
    "                        if ((infusion_name == 'Noradrenaline')|(infusion_name == 'Epinephrine')):\n",
    "                            pat_hours_of_infusion += 1\n",
    "                        if (note):\n",
    "                            notes += 1\n",
    "                            print(note)\n",
    "                            print('-------------')\n",
    "        total_hours_of_infusion += pat_hours_of_infusion\n",
    "        temp.append(pat_hours_of_infusion)\n",
    "        pat_list.append(temp)\n",
    "        number_of_notes_entered += notes\n",
    "        n_temp.append(notes)\n",
    "        note_list.append(notes)\n",
    "        n_temp = []\n",
    "        temp = []\n",
    "        notes = 0\n",
    "        pat_hours_of_infusion = 0\n",
    "    print('######### SUMMARY AUGUST FIRST TWO WEEKS #################\\n')\n",
    "    number_of_pressor_pats = 0\n",
    "    for i in range(len(pat_list)):\n",
    "        if (pat_list[i]!=[0]):\n",
    "            number_of_pressor_pats+=1\n",
    "    print('Total patinets: {}'.format(len(pat_list)))\n",
    "    print('Number of pressor patients: {}'.format(number_of_pressor_pats))\n",
    "    print('Total numbeer of infusion hours: {}'.format(total_hours_of_infusion))\n",
    "    print('Number of notes entered: {}'.format(number_of_notes_entered))"
   ]
  },
  {
   "cell_type": "code",
   "execution_count": 23,
   "metadata": {},
   "outputs": [],
   "source": [
    "import pandas as pd\n",
    "from collections import Counter\n",
    "import json\n",
    "with open('mallige_patient.json') as json_file:\n",
    "    all_pats = json.load(json_file)"
   ]
  },
  {
   "cell_type": "code",
   "execution_count": null,
   "metadata": {},
   "outputs": [],
   "source": []
  },
  {
   "cell_type": "code",
   "execution_count": 24,
   "metadata": {
    "scrolled": true
   },
   "outputs": [
    {
     "data": {
      "text/plain": [
       "Counter({'Procedures': 14,\n",
       "         'Documents': 232,\n",
       "         'Blood': 402,\n",
       "         'Imaging': 30,\n",
       "         'Body Fluids': 1,\n",
       "         'Urine': 5,\n",
       "         'Infectious Disease': 2,\n",
       "         'Procalcitonin': 1})"
      ]
     },
     "execution_count": 24,
     "metadata": {},
     "output_type": "execute_result"
    }
   ],
   "source": [
    "getLabCounts(all_pats)"
   ]
  },
  {
   "cell_type": "code",
   "execution_count": 25,
   "metadata": {
    "scrolled": true
   },
   "outputs": [
    {
     "data": {
      "text/plain": [
       "Counter({'IV canula ': 2,\n",
       "         'Catheteraization': 2,\n",
       "         'iv canula': 4,\n",
       "         None: 139,\n",
       "         'CHEST DRAIN': 3,\n",
       "         'Drain': 5,\n",
       "         'Epidural': 3,\n",
       "         'TRACHEOSTOMY': 3,\n",
       "         'drain': 3,\n",
       "         'IV canula': 6})"
      ]
     },
     "execution_count": 25,
     "metadata": {},
     "output_type": "execute_result"
    }
   ],
   "source": [
    "getProcedureCounts(all_pats)"
   ]
  },
  {
   "cell_type": "code",
   "execution_count": 26,
   "metadata": {
    "scrolled": true
   },
   "outputs": [
    {
     "data": {
      "text/plain": [
       "Counter({'daysTemperature': 1928,\n",
       "         'daysTemperatureUnit': 1539,\n",
       "         'daysHR': 1854,\n",
       "         'daysRR': 1748,\n",
       "         'daysBP': 1126,\n",
       "         'daysMAP': 1193,\n",
       "         'daysSpO2': 1612,\n",
       "         'daysFiO2': 1399,\n",
       "         'daysGCS': 173,\n",
       "         'daysGCSeyes': 173,\n",
       "         'daysGCSverbal': 136,\n",
       "         'daysGCSmotor': 173,\n",
       "         'daysBraden': 108,\n",
       "         'daysBradenActivity': 108,\n",
       "         'daysBradenFriction': 108,\n",
       "         'daysBradenMobility': 107,\n",
       "         'daysBradenMoisture': 108,\n",
       "         'daysBradenNutrition': 108,\n",
       "         'daysBradenSensory': 108,\n",
       "         'daysReasonBP': 520,\n",
       "         'daysFalls': 86,\n",
       "         'daysFallsSecDiagnoses': 66,\n",
       "         'daysPain': 64,\n",
       "         'daysVentAirway': 119,\n",
       "         'daysVentOralAirway': 69,\n",
       "         'daysVentType': 119,\n",
       "         'daysAVPU': 458,\n",
       "         'daysFallsFallHistory': 7,\n",
       "         'daysVentMode': 21,\n",
       "         'daysVentPEEP': 32,\n",
       "         'daysVentRRset': 23,\n",
       "         'daysVentSubMode': 10,\n",
       "         'daysVentVt': 26,\n",
       "         'daysFallsGait': 23,\n",
       "         'daysFallsMentalStatus': 34,\n",
       "         'daysFallsivTherapy': 8,\n",
       "         'daysFallsAmbAssist': 9,\n",
       "         'daysVentTubeSize': 8,\n",
       "         'daysVentPinsp': 3,\n",
       "         'daysVentPsupport': 2})"
      ]
     },
     "execution_count": 26,
     "metadata": {},
     "output_type": "execute_result"
    }
   ],
   "source": [
    "getVitalCounts(all_pats)"
   ]
  },
  {
   "cell_type": "code",
   "execution_count": 19,
   "metadata": {},
   "outputs": [],
   "source": [
    "def getLabCounts(all_pats):\n",
    "    ls = []\n",
    "    for i in range(len(all_pats)):\n",
    "        documents = all_pats[i]['documents']\n",
    "        for j in range(len(documents)):\n",
    "            doc = documents[j]\n",
    "            if (doc.get('tags')!=[]):\n",
    "                ls.append(doc.get('tags')[0])\n",
    "    return Counter(ls)"
   ]
  },
  {
   "cell_type": "code",
   "execution_count": 20,
   "metadata": {},
   "outputs": [],
   "source": [
    "def getProcedureCounts(all_pats):\n",
    "    pr_ls = []\n",
    "    for i in range(len(all_pats)):\n",
    "        orders = all_pats[i]['orders']\n",
    "        for j in (orders.get('active')).get('procedures'):\n",
    "            procedures = ((orders.get('active')).get('procedures'))\n",
    "            for k in range(len(procedures)):\n",
    "                procedure = procedures[k].get('name')\n",
    "                pr_ls.append(procedure)\n",
    "    return Counter(pr_ls)"
   ]
  },
  {
   "cell_type": "code",
   "execution_count": 21,
   "metadata": {},
   "outputs": [],
   "source": [
    "def getVitalCounts(all_pats):\n",
    "    vit_ls = []\n",
    "    for i in range(len(all_pats)):\n",
    "        days = all_pats[i]['days']\n",
    "        for j in range(len(days)):\n",
    "            hours = days[j]['hours']\n",
    "            for k in range(len(hours)):\n",
    "                mins = hours[k]['minutes']\n",
    "                for l in range(len(mins)):\n",
    "                    if (mins[l].get('vitals')):\n",
    "                        vitals = mins[l]['vitals']\n",
    "                        for k, v in vitals.items():\n",
    "                            if (v):\n",
    "                                vit_ls.append(k)\n",
    "    return Counter(vit_ls)"
   ]
  },
  {
   "cell_type": "code",
   "execution_count": null,
   "metadata": {},
   "outputs": [],
   "source": []
  }
 ],
 "metadata": {
  "kernelspec": {
   "display_name": "Python 3",
   "language": "python",
   "name": "python3"
  },
  "language_info": {
   "codemirror_mode": {
    "name": "ipython",
    "version": 3
   },
   "file_extension": ".py",
   "mimetype": "text/x-python",
   "name": "python",
   "nbconvert_exporter": "python",
   "pygments_lexer": "ipython3",
   "version": "3.7.3"
  }
 },
 "nbformat": 4,
 "nbformat_minor": 2
}
