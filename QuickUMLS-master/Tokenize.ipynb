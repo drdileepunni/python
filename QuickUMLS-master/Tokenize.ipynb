{
 "cells": [
  {
   "cell_type": "code",
   "execution_count": 1,
   "metadata": {},
   "outputs": [],
   "source": [
    "import pandas as pd\n",
    "import numpy as np"
   ]
  },
  {
   "cell_type": "code",
   "execution_count": 2,
   "metadata": {},
   "outputs": [
    {
     "name": "stdout",
     "output_type": "stream",
     "text": [
      "/home/dileep/Desktop/python/QuickUMLS-master\r\n"
     ]
    }
   ],
   "source": [
    "!pwd"
   ]
  },
  {
   "cell_type": "code",
   "execution_count": 3,
   "metadata": {},
   "outputs": [],
   "source": [
    "# Importing data\n",
    "txt = pd.read_csv('/home/dileep/Desktop/txt.csv')\n",
    "txt = txt.loc[:,'Unnamed: 0']\n",
    "sample2 = txt[3]"
   ]
  },
  {
   "cell_type": "code",
   "execution_count": 5,
   "metadata": {},
   "outputs": [
    {
     "data": {
      "text/plain": [
       "' Pt has history of fall from cycle. he is a bit disoriented and gcs 12/15 CT shows subdural hematoma with midline shift. Neurosurgery review to be done CNS: Urgent neurosurgery review to be done in view of the midline shift and subdural hematoma in the CT report. GCS 12/15. No information regarding LOC.  If GCS drops more,then plan a repeat CT scan. Will start anti-edema measures with Mannitol 100 ml TID. Start Inj. levetiracetam 500 mg BD as anti-seizure measures NPO for now as patient is restless and he is disoriented. Will give him iv fluids at 100 ml/hr. DVT prophylaxis with stockings. Avoid Heparin in view of subdural hemorrhage Prophylactic antibiotics to be started in view of the fracture  RS- Pt maintaining saturation on O2. Close watch of GCS. Pt might require intubation if GCS falls. Replace K - KCL 40 meq IV over 4 hrs in 250ml NS.  High risk for PE post op. Will need to watch.  Stop tramadol. High risk on head trauma.   PMH and Review of Systems:Nil HISTORY: Alleged H/O Fall from Cycle'"
      ]
     },
     "execution_count": 5,
     "metadata": {},
     "output_type": "execute_result"
    }
   ],
   "source": [
    "sample2"
   ]
  },
  {
   "cell_type": "code",
   "execution_count": 16,
   "metadata": {},
   "outputs": [],
   "source": [
    "# Tokanizing sample into sentences\n",
    "import nltk\n",
    "sentences = nltk.sent_tokenize(sample)"
   ]
  },
  {
   "cell_type": "code",
   "execution_count": null,
   "metadata": {},
   "outputs": [],
   "source": [
    "sentences"
   ]
  },
  {
   "cell_type": "code",
   "execution_count": null,
   "metadata": {},
   "outputs": [],
   "source": [
    "# Tokenizing sentences into words\n",
    "token_sentences = [nltk.word_tokenize(sent) for sent in sentences]"
   ]
  },
  {
   "cell_type": "code",
   "execution_count": null,
   "metadata": {},
   "outputs": [],
   "source": [
    "# Tag words in sentences\n",
    "pos_sentences = [nltk.pos_tag(sent) for sent in token_sentences]"
   ]
  },
  {
   "cell_type": "code",
   "execution_count": null,
   "metadata": {},
   "outputs": [],
   "source": [
    "# Creating named entity chunks\n",
    "chunked_sentences = nltk.ne_chunk_sents(pos_sentences, binary=True)"
   ]
  },
  {
   "cell_type": "code",
   "execution_count": null,
   "metadata": {},
   "outputs": [],
   "source": [
    "for sent in chunked_sentences:\n",
    "    for chunk in sent:\n",
    "        if hasattr(chunk, 'label') and chunk.label() == 'NE':\n",
    "            print(chunk)"
   ]
  },
  {
   "cell_type": "code",
   "execution_count": null,
   "metadata": {},
   "outputs": [],
   "source": [
    "from collections import defaultdict\n",
    "import matplotlib.pyplot as plt\n",
    "%matplotlib inline\n",
    "\n",
    "ner_categories = defaultdict(int)\n",
    "for sent in chunked_sentences:\n",
    "    for chunk in sent:\n",
    "        if hasattr(chunk, 'label'):\n",
    "            ner_categories[chunk.label()] +=1\n",
    "        \n",
    "labels = list(ner_categories.keys())\n",
    "\n",
    "values = [ner_categories.get(l) for l in labels]\n",
    "\n",
    "plt.pie(values, labels=labels, autopct='%1.1f%%', startangle=140)\n",
    "plt.show()"
   ]
  },
  {
   "cell_type": "code",
   "execution_count": 105,
   "metadata": {},
   "outputs": [
    {
     "name": "stdout",
     "output_type": "stream",
     "text": [
      "CARDINAL 12/15\n",
      "ORG CT\n",
      "ORG Neurosurgery\n",
      "ORG CNS\n",
      "ORG CT\n",
      "ORG GCS\n",
      "CARDINAL 12/15\n",
      "ORG LOC\n",
      "ORG GCS\n",
      "ORG CT\n",
      "PRODUCT Mannitol 100\n",
      "PERSON Start Inj\n",
      "QUANTITY 500 mg BD\n",
      "ORG NPO\n",
      "QUANTITY 100 ml\n",
      "NORP Prophylactic\n",
      "ORG GCS\n",
      "ORG GCS\n",
      "PERSON Replace K - KCL 40\n",
      "ORG IV\n",
      "GPE 250ml NS\n",
      "GPE PE\n",
      "ORG PMH\n",
      "ORG Review of Systems\n"
     ]
    }
   ],
   "source": [
    "# Trying spacy for tokenization \n",
    "import spacy\n",
    "from spacy.lang.en import English\n",
    "\n",
    "nlp = spacy.load('en')\n",
    "doc = nlp(sample2)\n",
    "\n",
    "for ent in doc.ents:\n",
    "    print(ent.label_, ent.text)"
   ]
  },
  {
   "cell_type": "code",
   "execution_count": 1,
   "metadata": {},
   "outputs": [],
   "source": [
    "from quickumls import QuickUMLS\n",
    "matcher = QuickUMLS(quickumls_fp='/home/dileep/QuickUMLS', threshold=0.4)"
   ]
  },
  {
   "cell_type": "code",
   "execution_count": 5,
   "metadata": {},
   "outputs": [],
   "source": [
    "sample = 'Congestive Hert Failure, DBP, Pulse Rate, CVP, urine output, input output, GCS, Na+, K+, Cl-, CO2'\n",
    "a = matcher.match(sample, best_match=True, ignore_syntax=False)"
   ]
  },
  {
   "cell_type": "code",
   "execution_count": 6,
   "metadata": {},
   "outputs": [
    {
     "name": "stdout",
     "output_type": "stream",
     "text": [
      "urine output {'T201'}\n",
      "Pulse Rate {'T201'}\n",
      "DBP {'T060'}\n",
      "Congestive Hert Failure {'T047'}\n",
      "CO2 {'T034'}\n",
      "input output {'T201'}\n"
     ]
    }
   ],
   "source": [
    "for i in range(len(a)):\n",
    "    print(a[i][0]['ngram'], a[i][0]['semtypes'])"
   ]
  },
  {
   "cell_type": "code",
   "execution_count": 58,
   "metadata": {},
   "outputs": [],
   "source": [
    "import pyConTextNLP.pyConText as pyConText\n",
    "import pyConTextNLP.itemData as itemData\n",
    "import networkx as nx"
   ]
  },
  {
   "cell_type": "code",
   "execution_count": 60,
   "metadata": {},
   "outputs": [],
   "source": [
    "reports = [\n",
    "    \"\"\"IMPRESSION: Evaluation limited by lack of IV contrast; however, no evidence of\n",
    "      bowel obstruction or mass identified within the abdomen or pelvis. Non-specific interstitial opacities and bronchiectasis seen at the right\n",
    "     base, suggestive of post-inflammatory changes.\"\"\",\n",
    "    \"\"\"IMPRESSION: Evidence of early pulmonary vascular congestion and interstitial edema. Probable scarring at the medial aspect of the right lung base, with no\n",
    "     definite consolidation.\"\"\"\n",
    "    ,\n",
    "    \"\"\"IMPRESSION:\n",
    "     \n",
    "     1.  2.0 cm cyst of the right renal lower pole.  Otherwise, normal appearance\n",
    "     of the right kidney with patent vasculature and no sonographic evidence of\n",
    "     renal artery stenosis.\n",
    "     2.  Surgically absent left kidney.\"\"\",\n",
    "    \"\"\"IMPRESSION:  No pneumothorax.\"\"\",\n",
    "    \"\"\"IMPRESSION: No definite pneumothorax\"\"\"\n",
    "    \"\"\"IMPRESSION:  New opacity at the left lower lobe consistent with pneumonia.\"\"\"\n",
    "]"
   ]
  },
  {
   "cell_type": "code",
   "execution_count": 119,
   "metadata": {},
   "outputs": [
    {
     "name": "stderr",
     "output_type": "stream",
     "text": [
      "/home/dileep/anaconda3/envs/cpcv/lib/python3.7/site-packages/pyConTextNLP/itemData.py:40: YAMLLoadWarning: calling yaml.load_all() without Loader=... is deprecated, as the default Loader is unsafe. Please read https://msg.pyyaml.org/load for full details.\n",
      "  context_items =  [contextItem((d[\"Lex\"],\n"
     ]
    }
   ],
   "source": [
    "modifiers = itemData.get_items(\n",
    "    \"https://raw.githubusercontent.com/chapmanbe/pyConTextNLP/master/KB/lexical_kb_05042016.yml\")\n",
    "targets = itemData.get_items(\n",
    "    \"https://raw.githubusercontent.com/chapmanbe/pyConTextNLP/master/KB/utah_crit.yml\")"
   ]
  },
  {
   "cell_type": "code",
   "execution_count": 158,
   "metadata": {},
   "outputs": [],
   "source": [
    "def markup_sentence(s, modifiers, targets, prune_inactive=True):\n",
    "    \"\"\"\n",
    "    \"\"\"\n",
    "    markup = pyConText.ConTextMarkup()\n",
    "    markup.setRawText(s)\n",
    "    markup.cleanText()\n",
    "    markup.markItems(modifiers, mode=\"modifier\")\n",
    "    markup.markItems(targets, mode=\"target\")\n",
    "    markup.pruneMarks()\n",
    "    markup.dropMarks('Exclusion')\n",
    "    # apply modifiers to any targets within the modifiers scope\n",
    "    markup.applyModifiers()\n",
    "    markup.pruneSelfModifyingRelationships()\n",
    "    if prune_inactive:\n",
    "        markup.dropInactiveModifiers()\n",
    "    return markup"
   ]
  },
  {
   "cell_type": "code",
   "execution_count": 170,
   "metadata": {},
   "outputs": [
    {
     "name": "stdout",
     "output_type": "stream",
     "text": [
      "IMPRESSION: Evaluation limited by lack of IV contrast; however, no evidence of\n",
      "      bowel obstruction or mass identified within the abdomen or pelvis. Non-specific interstitial opacities and bronchiectasis seen at the right\n",
      "     base, suggestive of post-inflammatory changes.\n"
     ]
    }
   ],
   "source": [
    "print(reports[0])\n",
    "context = pyConText.ConTextDocument()\n",
    "report = reports[0]"
   ]
  },
  {
   "cell_type": "code",
   "execution_count": 171,
   "metadata": {},
   "outputs": [],
   "source": [
    "from textblob import TextBlob\n",
    "\n",
    "blob = TextBlob(report.lower())\n",
    "count = 0\n",
    "rslts = []\n",
    "for s in blob.sentences:\n",
    "    m = markup_sentence(s.raw, modifiers=modifiers, targets=targets)\n",
    "    rslts.append(m)\n",
    "\n",
    "for r in rslts:\n",
    "    context.addMarkup(r)"
   ]
  },
  {
   "cell_type": "code",
   "execution_count": 224,
   "metadata": {},
   "outputs": [
    {
     "name": "stdout",
     "output_type": "stream",
     "text": [
      "<id> 55825478535282733847928264409918309122 </id> <phrase> evaluation </phrase> <category> ['indication'] </category> \n",
      "<id> 55826186835055611371106350692834312962 </id> <phrase> no evidence of </phrase> <category> ['definite_negated_existence'] </category> \n",
      "<id> 55826722417434207798028483049938584322 </id> <phrase> however </phrase> <category> ['conj'] </category> \n",
      "<id> 55827001300566258008496812324643767042 </id> <phrase> bowel obstruction </phrase> <category> ['bowel_obstruction'] </category> \n"
     ]
    }
   ],
   "source": [
    "for node in rslts[0].nodes():\n",
    "    print(node)"
   ]
  },
  {
   "cell_type": "code",
   "execution_count": 194,
   "metadata": {},
   "outputs": [
    {
     "data": {
      "text/plain": [
       "True"
      ]
     },
     "execution_count": 194,
     "metadata": {},
     "output_type": "execute_result"
    }
   ],
   "source": [
    "markup = pyConText.ConTextMarkup()"
   ]
  },
  {
   "cell_type": "code",
   "execution_count": 203,
   "metadata": {},
   "outputs": [
    {
     "name": "stdout",
     "output_type": "stream",
     "text": [
      "__________________________________________\n",
      "rawText: impression:  no pneumothorax.\n",
      "cleanedText: None\n",
      "__________________________________________\n",
      "\n",
      "29\n"
     ]
    }
   ],
   "source": [
    "markup.setRawText(reports[3].lower())\n",
    "print(markup)\n",
    "print(len(markup.getRawText()))"
   ]
  },
  {
   "cell_type": "code",
   "execution_count": 205,
   "metadata": {},
   "outputs": [],
   "source": [
    "markup.cleanText()"
   ]
  },
  {
   "cell_type": "code",
   "execution_count": 206,
   "metadata": {},
   "outputs": [
    {
     "data": {
      "text/plain": [
       "'impression: no pneumothorax.'"
      ]
     },
     "execution_count": 206,
     "metadata": {},
     "output_type": "execute_result"
    }
   ],
   "source": [
    "markup.getText()"
   ]
  },
  {
   "cell_type": "code",
   "execution_count": null,
   "metadata": {},
   "outputs": [],
   "source": []
  }
 ],
 "metadata": {
  "kernelspec": {
   "display_name": "Python 3",
   "language": "python",
   "name": "python3"
  },
  "language_info": {
   "codemirror_mode": {
    "name": "ipython",
    "version": 3
   },
   "file_extension": ".py",
   "mimetype": "text/x-python",
   "name": "python",
   "nbconvert_exporter": "python",
   "pygments_lexer": "ipython3",
   "version": "3.7.3"
  }
 },
 "nbformat": 4,
 "nbformat_minor": 2
}
