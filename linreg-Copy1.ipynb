{
 "cells": [
  {
   "cell_type": "code",
   "execution_count": 1,
   "metadata": {},
   "outputs": [],
   "source": [
    "import math\n",
    "import numpy as np\n",
    "import matplotlib.pyplot as plt\n",
    "import pandas as pd\n",
    "\n",
    "%matplotlib inline\n",
    "np.random.seed(1)"
   ]
  },
  {
   "cell_type": "code",
   "execution_count": 2,
   "metadata": {},
   "outputs": [
    {
     "data": {
      "text/plain": [
       "'/Users/dileepunnikrishnan'"
      ]
     },
     "execution_count": 2,
     "metadata": {},
     "output_type": "execute_result"
    }
   ],
   "source": [
    "import os\n",
    "os.getcwd()"
   ]
  },
  {
   "cell_type": "markdown",
   "metadata": {},
   "source": [
    "# Importing and Cleaning table"
   ]
  },
  {
   "cell_type": "code",
   "execution_count": 3,
   "metadata": {},
   "outputs": [
    {
     "data": {
      "text/plain": [
       "(1647, 34)"
      ]
     },
     "execution_count": 3,
     "metadata": {},
     "output_type": "execute_result"
    }
   ],
   "source": [
    "tnn = pd.read_csv('/Users/dileepunnikrishnan/desktop/NN_source_file(1).csv', index_col=[0])\n",
    "tnn.shape"
   ]
  },
  {
   "cell_type": "code",
   "execution_count": 4,
   "metadata": {},
   "outputs": [
    {
     "name": "stdout",
     "output_type": "stream",
     "text": [
      "<class 'pandas.core.frame.DataFrame'>\n",
      "Int64Index: 1647 entries, 1 to 1647\n",
      "Data columns (total 34 columns):\n",
      "Name                  1647 non-null object\n",
      "CPMRN                 1629 non-null object\n",
      "Month.of.Admission    1647 non-null object\n",
      "Age                   1647 non-null int64\n",
      "Gender                1647 non-null object\n",
      "Hospital              1647 non-null object\n",
      "History               1647 non-null object\n",
      "Surgery               1647 non-null object\n",
      "Vent.mode             1623 non-null object\n",
      "GCS                   1647 non-null int64\n",
      "Temparature           1647 non-null object\n",
      "HR                    1647 non-null float64\n",
      "SpO2                  1647 non-null int64\n",
      "SBP                   1647 non-null float64\n",
      "MAP                   1647 non-null float64\n",
      "RR                    1647 non-null int64\n",
      "FiO2                  1647 non-null float64\n",
      "PaO2                  1647 non-null float64\n",
      "PaCO2                 1647 non-null float64\n",
      "pH                    1647 non-null float64\n",
      "A.a.gradient          1647 non-null int64\n",
      "HCO3                  1647 non-null float64\n",
      "Hb                    1647 non-null float64\n",
      "TLC                   1647 non-null int64\n",
      "Platelets             1647 non-null float64\n",
      "K                     1647 non-null float64\n",
      "Na                    1647 non-null float64\n",
      "Serum.Cr              1647 non-null float64\n",
      "Blood.Urea            1647 non-null float64\n",
      "Bili                  1647 non-null float64\n",
      "Urine.output          1647 non-null int64\n",
      "Lactate               1647 non-null float64\n",
      "INR                   1647 non-null float64\n",
      "Survival              1647 non-null object\n",
      "dtypes: float64(17), int64(7), object(10)\n",
      "memory usage: 450.4+ KB\n"
     ]
    }
   ],
   "source": [
    "tnn.info()"
   ]
  },
  {
   "cell_type": "code",
   "execution_count": 5,
   "metadata": {},
   "outputs": [
    {
     "data": {
      "text/plain": [
       "0"
      ]
     },
     "execution_count": 5,
     "metadata": {},
     "output_type": "execute_result"
    }
   ],
   "source": [
    "tnn['Temparature'] = pd.to_numeric(tnn['Temparature'], errors='coerce')\n",
    "tnn.Temparature = tnn.Temparature.replace(np.nan, 98.6)\n",
    "sum(tnn.Temparature.isnull())"
   ]
  },
  {
   "cell_type": "code",
   "execution_count": 6,
   "metadata": {},
   "outputs": [
    {
     "data": {
      "text/plain": [
       "array(['July 2018', 'August 2018', 'September 2018', 'October 2018',\n",
       "       'November 2018', 'December 2018', 'January 2019', 'February 2019',\n",
       "       'July 0201', 'January 2018', 'August 2015', 'February 2018',\n",
       "       'February 0219'], dtype=object)"
      ]
     },
     "execution_count": 6,
     "metadata": {},
     "output_type": "execute_result"
    }
   ],
   "source": [
    "tnn['Month.of.Admission'].unique()"
   ]
  },
  {
   "cell_type": "code",
   "execution_count": 7,
   "metadata": {},
   "outputs": [],
   "source": [
    "tnn['Month.of.Admission'] = tnn['Month.of.Admission'].replace('July 0201', 'July 2018')\n",
    "tnn['Month.of.Admission'] = tnn['Month.of.Admission'].replace('January 2018', 'January 2019')\n",
    "tnn['Month.of.Admission'] = tnn['Month.of.Admission'].replace('August 2015', 'August 2018')\n",
    "tnn['Month.of.Admission'] = tnn['Month.of.Admission'].replace('February 2018', 'February 2019')\n",
    "tnn['Month.of.Admission'] = tnn['Month.of.Admission'].replace('February 0219', 'February 2019')"
   ]
  },
  {
   "cell_type": "code",
   "execution_count": 8,
   "metadata": {},
   "outputs": [
    {
     "data": {
      "text/plain": [
       "RA           555\n",
       "Mask         407\n",
       "Cannula      332\n",
       "ETT          171\n",
       "High Flow     95\n",
       "Trach         63\n",
       "Name: Vent.mode, dtype: int64"
      ]
     },
     "execution_count": 8,
     "metadata": {},
     "output_type": "execute_result"
    }
   ],
   "source": [
    "tnn['Vent.mode'].value_counts()"
   ]
  },
  {
   "cell_type": "code",
   "execution_count": 9,
   "metadata": {},
   "outputs": [],
   "source": [
    "tnn['Vent.mode'] = tnn['Vent.mode'].replace(np.nan, 'RA')"
   ]
  },
  {
   "cell_type": "code",
   "execution_count": 10,
   "metadata": {},
   "outputs": [],
   "source": [
    "tnn2 = tnn.drop(['Name', 'CPMRN', 'History', 'SBP'], axis=1)"
   ]
  },
  {
   "cell_type": "code",
   "execution_count": 34,
   "metadata": {},
   "outputs": [],
   "source": [
    "tnn_trim = tnn.drop(['Name', 'CPMRN', 'History', 'SBP', 'Month.of.Admission', 'Gender', 'Hospital'], axis=1)"
   ]
  },
  {
   "cell_type": "code",
   "execution_count": 11,
   "metadata": {},
   "outputs": [
    {
     "data": {
      "text/plain": [
       "Index(['Month.of.Admission', 'Age', 'Gender', 'Hospital', 'Surgery',\n",
       "       'Vent.mode', 'GCS', 'Temparature', 'HR', 'SpO2', 'MAP', 'RR', 'FiO2',\n",
       "       'PaO2', 'PaCO2', 'pH', 'A.a.gradient', 'HCO3', 'Hb', 'TLC', 'Platelets',\n",
       "       'K', 'Na', 'Serum.Cr', 'Blood.Urea', 'Bili', 'Urine.output', 'Lactate',\n",
       "       'INR', 'Survival'],\n",
       "      dtype='object')"
      ]
     },
     "execution_count": 11,
     "metadata": {},
     "output_type": "execute_result"
    }
   ],
   "source": [
    "tnn2.columns"
   ]
  },
  {
   "cell_type": "code",
   "execution_count": 35,
   "metadata": {},
   "outputs": [
    {
     "name": "stderr",
     "output_type": "stream",
     "text": [
      "/Users/dileepunnikrishnan/anaconda3/envs/tf/lib/python3.7/site-packages/sklearn/preprocessing/data.py:645: DataConversionWarning: Data with input dtype float32 were all converted to float64 by StandardScaler.\n",
      "  return self.partial_fit(X, y)\n",
      "/Users/dileepunnikrishnan/anaconda3/envs/tf/lib/python3.7/site-packages/sklearn/base.py:464: DataConversionWarning: Data with input dtype float32 were all converted to float64 by StandardScaler.\n",
      "  return self.fit(X, **fit_params).transform(X)\n",
      "/Users/dileepunnikrishnan/anaconda3/envs/tf/lib/python3.7/site-packages/sklearn/preprocessing/data.py:645: DataConversionWarning: Data with input dtype float32 were all converted to float64 by StandardScaler.\n",
      "  return self.partial_fit(X, y)\n",
      "/Users/dileepunnikrishnan/anaconda3/envs/tf/lib/python3.7/site-packages/sklearn/base.py:464: DataConversionWarning: Data with input dtype float32 were all converted to float64 by StandardScaler.\n",
      "  return self.fit(X, **fit_params).transform(X)\n",
      "/Users/dileepunnikrishnan/anaconda3/envs/tf/lib/python3.7/site-packages/sklearn/preprocessing/data.py:645: DataConversionWarning: Data with input dtype float32 were all converted to float64 by StandardScaler.\n",
      "  return self.partial_fit(X, y)\n",
      "/Users/dileepunnikrishnan/anaconda3/envs/tf/lib/python3.7/site-packages/sklearn/base.py:464: DataConversionWarning: Data with input dtype float32 were all converted to float64 by StandardScaler.\n",
      "  return self.fit(X, **fit_params).transform(X)\n",
      "/Users/dileepunnikrishnan/anaconda3/envs/tf/lib/python3.7/site-packages/sklearn/preprocessing/data.py:645: DataConversionWarning: Data with input dtype float32 were all converted to float64 by StandardScaler.\n",
      "  return self.partial_fit(X, y)\n",
      "/Users/dileepunnikrishnan/anaconda3/envs/tf/lib/python3.7/site-packages/sklearn/base.py:464: DataConversionWarning: Data with input dtype float32 were all converted to float64 by StandardScaler.\n",
      "  return self.fit(X, **fit_params).transform(X)\n",
      "/Users/dileepunnikrishnan/anaconda3/envs/tf/lib/python3.7/site-packages/sklearn/preprocessing/data.py:645: DataConversionWarning: Data with input dtype float32 were all converted to float64 by StandardScaler.\n",
      "  return self.partial_fit(X, y)\n",
      "/Users/dileepunnikrishnan/anaconda3/envs/tf/lib/python3.7/site-packages/sklearn/base.py:464: DataConversionWarning: Data with input dtype float32 were all converted to float64 by StandardScaler.\n",
      "  return self.fit(X, **fit_params).transform(X)\n",
      "/Users/dileepunnikrishnan/anaconda3/envs/tf/lib/python3.7/site-packages/sklearn/preprocessing/data.py:645: DataConversionWarning: Data with input dtype float32 were all converted to float64 by StandardScaler.\n",
      "  return self.partial_fit(X, y)\n",
      "/Users/dileepunnikrishnan/anaconda3/envs/tf/lib/python3.7/site-packages/sklearn/base.py:464: DataConversionWarning: Data with input dtype float32 were all converted to float64 by StandardScaler.\n",
      "  return self.fit(X, **fit_params).transform(X)\n",
      "/Users/dileepunnikrishnan/anaconda3/envs/tf/lib/python3.7/site-packages/sklearn/preprocessing/data.py:645: DataConversionWarning: Data with input dtype float32 were all converted to float64 by StandardScaler.\n",
      "  return self.partial_fit(X, y)\n",
      "/Users/dileepunnikrishnan/anaconda3/envs/tf/lib/python3.7/site-packages/sklearn/base.py:464: DataConversionWarning: Data with input dtype float32 were all converted to float64 by StandardScaler.\n",
      "  return self.fit(X, **fit_params).transform(X)\n",
      "/Users/dileepunnikrishnan/anaconda3/envs/tf/lib/python3.7/site-packages/sklearn/preprocessing/data.py:645: DataConversionWarning: Data with input dtype float32 were all converted to float64 by StandardScaler.\n",
      "  return self.partial_fit(X, y)\n",
      "/Users/dileepunnikrishnan/anaconda3/envs/tf/lib/python3.7/site-packages/sklearn/base.py:464: DataConversionWarning: Data with input dtype float32 were all converted to float64 by StandardScaler.\n",
      "  return self.fit(X, **fit_params).transform(X)\n",
      "/Users/dileepunnikrishnan/anaconda3/envs/tf/lib/python3.7/site-packages/sklearn/preprocessing/data.py:645: DataConversionWarning: Data with input dtype float32 were all converted to float64 by StandardScaler.\n",
      "  return self.partial_fit(X, y)\n",
      "/Users/dileepunnikrishnan/anaconda3/envs/tf/lib/python3.7/site-packages/sklearn/base.py:464: DataConversionWarning: Data with input dtype float32 were all converted to float64 by StandardScaler.\n",
      "  return self.fit(X, **fit_params).transform(X)\n",
      "/Users/dileepunnikrishnan/anaconda3/envs/tf/lib/python3.7/site-packages/sklearn/preprocessing/data.py:645: DataConversionWarning: Data with input dtype float32 were all converted to float64 by StandardScaler.\n",
      "  return self.partial_fit(X, y)\n",
      "/Users/dileepunnikrishnan/anaconda3/envs/tf/lib/python3.7/site-packages/sklearn/base.py:464: DataConversionWarning: Data with input dtype float32 were all converted to float64 by StandardScaler.\n",
      "  return self.fit(X, **fit_params).transform(X)\n",
      "/Users/dileepunnikrishnan/anaconda3/envs/tf/lib/python3.7/site-packages/sklearn/preprocessing/data.py:645: DataConversionWarning: Data with input dtype float32 were all converted to float64 by StandardScaler.\n",
      "  return self.partial_fit(X, y)\n",
      "/Users/dileepunnikrishnan/anaconda3/envs/tf/lib/python3.7/site-packages/sklearn/base.py:464: DataConversionWarning: Data with input dtype float32 were all converted to float64 by StandardScaler.\n",
      "  return self.fit(X, **fit_params).transform(X)\n",
      "/Users/dileepunnikrishnan/anaconda3/envs/tf/lib/python3.7/site-packages/sklearn/preprocessing/data.py:645: DataConversionWarning: Data with input dtype float32 were all converted to float64 by StandardScaler.\n",
      "  return self.partial_fit(X, y)\n",
      "/Users/dileepunnikrishnan/anaconda3/envs/tf/lib/python3.7/site-packages/sklearn/base.py:464: DataConversionWarning: Data with input dtype float32 were all converted to float64 by StandardScaler.\n",
      "  return self.fit(X, **fit_params).transform(X)\n",
      "/Users/dileepunnikrishnan/anaconda3/envs/tf/lib/python3.7/site-packages/sklearn/preprocessing/data.py:645: DataConversionWarning: Data with input dtype float32 were all converted to float64 by StandardScaler.\n",
      "  return self.partial_fit(X, y)\n",
      "/Users/dileepunnikrishnan/anaconda3/envs/tf/lib/python3.7/site-packages/sklearn/base.py:464: DataConversionWarning: Data with input dtype float32 were all converted to float64 by StandardScaler.\n",
      "  return self.fit(X, **fit_params).transform(X)\n",
      "/Users/dileepunnikrishnan/anaconda3/envs/tf/lib/python3.7/site-packages/sklearn/preprocessing/data.py:645: DataConversionWarning: Data with input dtype float32 were all converted to float64 by StandardScaler.\n",
      "  return self.partial_fit(X, y)\n",
      "/Users/dileepunnikrishnan/anaconda3/envs/tf/lib/python3.7/site-packages/sklearn/base.py:464: DataConversionWarning: Data with input dtype float32 were all converted to float64 by StandardScaler.\n",
      "  return self.fit(X, **fit_params).transform(X)\n",
      "/Users/dileepunnikrishnan/anaconda3/envs/tf/lib/python3.7/site-packages/sklearn/preprocessing/data.py:645: DataConversionWarning: Data with input dtype float32 were all converted to float64 by StandardScaler.\n",
      "  return self.partial_fit(X, y)\n",
      "/Users/dileepunnikrishnan/anaconda3/envs/tf/lib/python3.7/site-packages/sklearn/base.py:464: DataConversionWarning: Data with input dtype float32 were all converted to float64 by StandardScaler.\n",
      "  return self.fit(X, **fit_params).transform(X)\n",
      "/Users/dileepunnikrishnan/anaconda3/envs/tf/lib/python3.7/site-packages/sklearn/preprocessing/data.py:645: DataConversionWarning: Data with input dtype float32 were all converted to float64 by StandardScaler.\n",
      "  return self.partial_fit(X, y)\n",
      "/Users/dileepunnikrishnan/anaconda3/envs/tf/lib/python3.7/site-packages/sklearn/base.py:464: DataConversionWarning: Data with input dtype float32 were all converted to float64 by StandardScaler.\n",
      "  return self.fit(X, **fit_params).transform(X)\n",
      "/Users/dileepunnikrishnan/anaconda3/envs/tf/lib/python3.7/site-packages/sklearn/preprocessing/data.py:645: DataConversionWarning: Data with input dtype float32 were all converted to float64 by StandardScaler.\n",
      "  return self.partial_fit(X, y)\n",
      "/Users/dileepunnikrishnan/anaconda3/envs/tf/lib/python3.7/site-packages/sklearn/base.py:464: DataConversionWarning: Data with input dtype float32 were all converted to float64 by StandardScaler.\n",
      "  return self.fit(X, **fit_params).transform(X)\n",
      "/Users/dileepunnikrishnan/anaconda3/envs/tf/lib/python3.7/site-packages/sklearn/preprocessing/data.py:645: DataConversionWarning: Data with input dtype float32 were all converted to float64 by StandardScaler.\n",
      "  return self.partial_fit(X, y)\n",
      "/Users/dileepunnikrishnan/anaconda3/envs/tf/lib/python3.7/site-packages/sklearn/base.py:464: DataConversionWarning: Data with input dtype float32 were all converted to float64 by StandardScaler.\n",
      "  return self.fit(X, **fit_params).transform(X)\n",
      "/Users/dileepunnikrishnan/anaconda3/envs/tf/lib/python3.7/site-packages/sklearn/preprocessing/data.py:645: DataConversionWarning: Data with input dtype float32 were all converted to float64 by StandardScaler.\n",
      "  return self.partial_fit(X, y)\n",
      "/Users/dileepunnikrishnan/anaconda3/envs/tf/lib/python3.7/site-packages/sklearn/base.py:464: DataConversionWarning: Data with input dtype float32 were all converted to float64 by StandardScaler.\n",
      "  return self.fit(X, **fit_params).transform(X)\n",
      "/Users/dileepunnikrishnan/anaconda3/envs/tf/lib/python3.7/site-packages/sklearn/preprocessing/data.py:645: DataConversionWarning: Data with input dtype float32 were all converted to float64 by StandardScaler.\n",
      "  return self.partial_fit(X, y)\n",
      "/Users/dileepunnikrishnan/anaconda3/envs/tf/lib/python3.7/site-packages/sklearn/base.py:464: DataConversionWarning: Data with input dtype float32 were all converted to float64 by StandardScaler.\n",
      "  return self.fit(X, **fit_params).transform(X)\n",
      "/Users/dileepunnikrishnan/anaconda3/envs/tf/lib/python3.7/site-packages/sklearn/preprocessing/data.py:645: DataConversionWarning: Data with input dtype float32 were all converted to float64 by StandardScaler.\n",
      "  return self.partial_fit(X, y)\n",
      "/Users/dileepunnikrishnan/anaconda3/envs/tf/lib/python3.7/site-packages/sklearn/base.py:464: DataConversionWarning: Data with input dtype float32 were all converted to float64 by StandardScaler.\n",
      "  return self.fit(X, **fit_params).transform(X)\n",
      "/Users/dileepunnikrishnan/anaconda3/envs/tf/lib/python3.7/site-packages/sklearn/preprocessing/data.py:645: DataConversionWarning: Data with input dtype float32 were all converted to float64 by StandardScaler.\n",
      "  return self.partial_fit(X, y)\n",
      "/Users/dileepunnikrishnan/anaconda3/envs/tf/lib/python3.7/site-packages/sklearn/base.py:464: DataConversionWarning: Data with input dtype float32 were all converted to float64 by StandardScaler.\n",
      "  return self.fit(X, **fit_params).transform(X)\n",
      "/Users/dileepunnikrishnan/anaconda3/envs/tf/lib/python3.7/site-packages/sklearn/preprocessing/data.py:645: DataConversionWarning: Data with input dtype float32 were all converted to float64 by StandardScaler.\n",
      "  return self.partial_fit(X, y)\n",
      "/Users/dileepunnikrishnan/anaconda3/envs/tf/lib/python3.7/site-packages/sklearn/base.py:464: DataConversionWarning: Data with input dtype float32 were all converted to float64 by StandardScaler.\n",
      "  return self.fit(X, **fit_params).transform(X)\n",
      "/Users/dileepunnikrishnan/anaconda3/envs/tf/lib/python3.7/site-packages/sklearn/preprocessing/data.py:645: DataConversionWarning: Data with input dtype float32 were all converted to float64 by StandardScaler.\n",
      "  return self.partial_fit(X, y)\n",
      "/Users/dileepunnikrishnan/anaconda3/envs/tf/lib/python3.7/site-packages/sklearn/base.py:464: DataConversionWarning: Data with input dtype float32 were all converted to float64 by StandardScaler.\n",
      "  return self.fit(X, **fit_params).transform(X)\n",
      "/Users/dileepunnikrishnan/anaconda3/envs/tf/lib/python3.7/site-packages/sklearn/preprocessing/data.py:645: DataConversionWarning: Data with input dtype int64 were all converted to float64 by StandardScaler.\n",
      "  return self.partial_fit(X, y)\n",
      "/Users/dileepunnikrishnan/anaconda3/envs/tf/lib/python3.7/site-packages/sklearn/base.py:464: DataConversionWarning: Data with input dtype int64 were all converted to float64 by StandardScaler.\n",
      "  return self.fit(X, **fit_params).transform(X)\n",
      "/Users/dileepunnikrishnan/anaconda3/envs/tf/lib/python3.7/site-packages/sklearn/preprocessing/data.py:645: DataConversionWarning: Data with input dtype int64 were all converted to float64 by StandardScaler.\n",
      "  return self.partial_fit(X, y)\n",
      "/Users/dileepunnikrishnan/anaconda3/envs/tf/lib/python3.7/site-packages/sklearn/base.py:464: DataConversionWarning: Data with input dtype int64 were all converted to float64 by StandardScaler.\n",
      "  return self.fit(X, **fit_params).transform(X)\n",
      "/Users/dileepunnikrishnan/anaconda3/envs/tf/lib/python3.7/site-packages/sklearn/preprocessing/data.py:645: DataConversionWarning: Data with input dtype int64 were all converted to float64 by StandardScaler.\n",
      "  return self.partial_fit(X, y)\n",
      "/Users/dileepunnikrishnan/anaconda3/envs/tf/lib/python3.7/site-packages/sklearn/base.py:464: DataConversionWarning: Data with input dtype int64 were all converted to float64 by StandardScaler.\n",
      "  return self.fit(X, **fit_params).transform(X)\n",
      "/Users/dileepunnikrishnan/anaconda3/envs/tf/lib/python3.7/site-packages/sklearn/preprocessing/data.py:645: DataConversionWarning: Data with input dtype int64 were all converted to float64 by StandardScaler.\n",
      "  return self.partial_fit(X, y)\n",
      "/Users/dileepunnikrishnan/anaconda3/envs/tf/lib/python3.7/site-packages/sklearn/base.py:464: DataConversionWarning: Data with input dtype int64 were all converted to float64 by StandardScaler.\n",
      "  return self.fit(X, **fit_params).transform(X)\n",
      "/Users/dileepunnikrishnan/anaconda3/envs/tf/lib/python3.7/site-packages/sklearn/preprocessing/data.py:645: DataConversionWarning: Data with input dtype int64 were all converted to float64 by StandardScaler.\n",
      "  return self.partial_fit(X, y)\n",
      "/Users/dileepunnikrishnan/anaconda3/envs/tf/lib/python3.7/site-packages/sklearn/base.py:464: DataConversionWarning: Data with input dtype int64 were all converted to float64 by StandardScaler.\n",
      "  return self.fit(X, **fit_params).transform(X)\n",
      "/Users/dileepunnikrishnan/anaconda3/envs/tf/lib/python3.7/site-packages/sklearn/preprocessing/data.py:645: DataConversionWarning: Data with input dtype int64 were all converted to float64 by StandardScaler.\n",
      "  return self.partial_fit(X, y)\n",
      "/Users/dileepunnikrishnan/anaconda3/envs/tf/lib/python3.7/site-packages/sklearn/base.py:464: DataConversionWarning: Data with input dtype int64 were all converted to float64 by StandardScaler.\n",
      "  return self.fit(X, **fit_params).transform(X)\n",
      "/Users/dileepunnikrishnan/anaconda3/envs/tf/lib/python3.7/site-packages/sklearn/preprocessing/data.py:645: DataConversionWarning: Data with input dtype int64 were all converted to float64 by StandardScaler.\n",
      "  return self.partial_fit(X, y)\n",
      "/Users/dileepunnikrishnan/anaconda3/envs/tf/lib/python3.7/site-packages/sklearn/base.py:464: DataConversionWarning: Data with input dtype int64 were all converted to float64 by StandardScaler.\n",
      "  return self.fit(X, **fit_params).transform(X)\n"
     ]
    }
   ],
   "source": [
    "from sklearn import preprocessing\n",
    "scaler = preprocessing.StandardScaler()\n",
    "def scaleColumns(df, cols_to_scale):\n",
    "    for col in cols_to_scale:\n",
    "        df[col] = pd.DataFrame(scaler.fit_transform(pd.DataFrame(df[col])))\n",
    "    return df\n",
    "tnn_scaled = scaleColumns(tnn2, ['Age', 'GCS', 'Temparature', 'HR', 'SpO2', 'MAP', 'RR', 'FiO2', \n",
    "                                          'PaO2', 'PaCO2', 'pH', 'A.a.gradient', 'HCO3', 'Hb', 'TLC', 'Platelets', \n",
    "                                         'K', 'Na', 'Serum.Cr', 'Blood.Urea', 'Bili', 'Urine.output', 'Lactate', \n",
    "                                         'INR'])\n",
    "tnt_scaled = scaleColumns(tnn_trim, ['Age', 'GCS', 'Temparature', 'HR', 'SpO2', 'MAP', 'RR', 'FiO2', \n",
    "                                          'PaO2', 'PaCO2', 'pH', 'A.a.gradient', 'HCO3', 'Hb', 'TLC', 'Platelets', \n",
    "                                         'K', 'Na', 'Serum.Cr', 'Blood.Urea', 'Bili', 'Urine.output', 'Lactate', \n",
    "                                         'INR'])"
   ]
  },
  {
   "cell_type": "markdown",
   "metadata": {},
   "source": [
    "### Changing dtypes of numerics from float64 to float32"
   ]
  },
  {
   "cell_type": "code",
   "execution_count": 36,
   "metadata": {
    "scrolled": true
   },
   "outputs": [
    {
     "name": "stdout",
     "output_type": "stream",
     "text": [
      "<class 'pandas.core.frame.DataFrame'>\n",
      "Int64Index: 1647 entries, 1 to 1647\n",
      "Data columns (total 30 columns):\n",
      "Month.of.Admission    1647 non-null object\n",
      "Age                   1645 non-null float32\n",
      "Gender                1647 non-null object\n",
      "Hospital              1647 non-null object\n",
      "Surgery               1647 non-null object\n",
      "Vent.mode             1647 non-null object\n",
      "GCS                   1645 non-null float32\n",
      "Temparature           1645 non-null float32\n",
      "HR                    1645 non-null float32\n",
      "SpO2                  1645 non-null float32\n",
      "MAP                   1645 non-null float32\n",
      "RR                    1645 non-null float32\n",
      "FiO2                  1645 non-null float32\n",
      "PaO2                  1645 non-null float32\n",
      "PaCO2                 1645 non-null float32\n",
      "pH                    1645 non-null float32\n",
      "A.a.gradient          1645 non-null float32\n",
      "HCO3                  1645 non-null float32\n",
      "Hb                    1645 non-null float32\n",
      "TLC                   1645 non-null float32\n",
      "Platelets             1645 non-null float32\n",
      "K                     1645 non-null float32\n",
      "Na                    1645 non-null float32\n",
      "Serum.Cr              1645 non-null float32\n",
      "Blood.Urea            1645 non-null float32\n",
      "Bili                  1645 non-null float32\n",
      "Urine.output          1645 non-null float32\n",
      "Lactate               1645 non-null float32\n",
      "INR                   1645 non-null float32\n",
      "Survival              1647 non-null object\n",
      "dtypes: float32(24), object(6)\n",
      "memory usage: 324.5+ KB\n",
      "<class 'pandas.core.frame.DataFrame'>\n",
      "Int64Index: 1647 entries, 1 to 1647\n",
      "Data columns (total 27 columns):\n",
      "Age             1646 non-null float32\n",
      "Surgery         1647 non-null object\n",
      "Vent.mode       1647 non-null object\n",
      "GCS             1646 non-null float32\n",
      "Temparature     1646 non-null float32\n",
      "HR              1646 non-null float32\n",
      "SpO2            1646 non-null float32\n",
      "MAP             1646 non-null float32\n",
      "RR              1646 non-null float32\n",
      "FiO2            1646 non-null float32\n",
      "PaO2            1646 non-null float32\n",
      "PaCO2           1646 non-null float32\n",
      "pH              1646 non-null float32\n",
      "A.a.gradient    1646 non-null float32\n",
      "HCO3            1646 non-null float32\n",
      "Hb              1646 non-null float32\n",
      "TLC             1646 non-null float32\n",
      "Platelets       1646 non-null float32\n",
      "K               1646 non-null float32\n",
      "Na              1646 non-null float32\n",
      "Serum.Cr        1646 non-null float32\n",
      "Blood.Urea      1646 non-null float32\n",
      "Bili            1646 non-null float32\n",
      "Urine.output    1646 non-null float32\n",
      "Lactate         1646 non-null float32\n",
      "INR             1646 non-null float32\n",
      "Survival        1647 non-null object\n",
      "dtypes: float32(24), object(3)\n",
      "memory usage: 285.9+ KB\n"
     ]
    }
   ],
   "source": [
    "names = np.array(tnn_scaled.columns)\n",
    "for i in range(len(names)):\n",
    "    if tnn_scaled[names[i]].dtype == 'float64':\n",
    "        tnn_scaled[names[i]] = tnn_scaled[names[i]].astype('float32')\n",
    "names2 = np.array(tnt_scaled.columns)\n",
    "for i in range(len(names2)):\n",
    "    if tnt_scaled[names2[i]].dtype == 'float64':\n",
    "        tnt_scaled[names2[i]] = tnt_scaled[names2[i]].astype('float32')\n",
    "tnn_scaled.info()\n",
    "tnt_scaled.info()"
   ]
  },
  {
   "cell_type": "code",
   "execution_count": 40,
   "metadata": {
    "scrolled": true
   },
   "outputs": [],
   "source": [
    "tnn3 = pd.get_dummies(tnn_scaled, drop_first=True)\n",
    "tnt3 = pd.get_dummies(tnt_scaled, drop_first=True)"
   ]
  },
  {
   "cell_type": "code",
   "execution_count": 44,
   "metadata": {},
   "outputs": [],
   "source": [
    "tnn3 = tnn3.dropna()\n",
    "tnt3 = tnt3.dropna()"
   ]
  },
  {
   "cell_type": "code",
   "execution_count": 45,
   "metadata": {},
   "outputs": [
    {
     "name": "stdout",
     "output_type": "stream",
     "text": [
      "Index(['Age', 'GCS', 'Temparature', 'HR', 'SpO2', 'MAP', 'RR', 'FiO2', 'PaO2',\n",
      "       'PaCO2', 'pH', 'A.a.gradient', 'HCO3', 'Hb', 'TLC', 'Platelets', 'K',\n",
      "       'Na', 'Serum.Cr', 'Blood.Urea', 'Bili', 'Urine.output', 'Lactate',\n",
      "       'INR', 'Month.of.Admission_December 2018',\n",
      "       'Month.of.Admission_February 2019', 'Month.of.Admission_January 2019',\n",
      "       'Month.of.Admission_July 2018', 'Month.of.Admission_November 2018',\n",
      "       'Month.of.Admission_October 2018', 'Month.of.Admission_September 2018',\n",
      "       'Gender_Male', 'Hospital_Brains-MVJ', 'Hospital_Brains-SSNMC',\n",
      "       'Hospital_HCG DR', 'Hospital_HCG EKO', 'Hospital_HCG Hubli',\n",
      "       'Hospital_HCG Vijayawada', 'Hospital_MRNH', 'Hospital_Prashant',\n",
      "       'Surgery_Emergency surgery', 'Surgery_Non-Operative', 'Vent.mode_ETT',\n",
      "       'Vent.mode_High Flow', 'Vent.mode_Mask', 'Vent.mode_RA',\n",
      "       'Vent.mode_Trach', 'Survival_Expired'],\n",
      "      dtype='object')\n",
      "Index(['Age', 'GCS', 'Temparature', 'HR', 'SpO2', 'MAP', 'RR', 'FiO2', 'PaO2',\n",
      "       'PaCO2', 'pH', 'A.a.gradient', 'HCO3', 'Hb', 'TLC', 'Platelets', 'K',\n",
      "       'Na', 'Serum.Cr', 'Blood.Urea', 'Bili', 'Urine.output', 'Lactate',\n",
      "       'INR', 'Surgery_Emergency surgery', 'Surgery_Non-Operative',\n",
      "       'Vent.mode_ETT', 'Vent.mode_High Flow', 'Vent.mode_Mask',\n",
      "       'Vent.mode_RA', 'Vent.mode_Trach', 'Survival_Expired'],\n",
      "      dtype='object')\n"
     ]
    }
   ],
   "source": [
    "print(tnn3.columns)\n",
    "print(tnt3.columns)"
   ]
  },
  {
   "cell_type": "code",
   "execution_count": 51,
   "metadata": {},
   "outputs": [
    {
     "name": "stdout",
     "output_type": "stream",
     "text": [
      "(1645, 48)\n",
      "(1646, 32)\n"
     ]
    }
   ],
   "source": [
    "print(tnn3.shape)\n",
    "print(tnt3.shape)"
   ]
  },
  {
   "cell_type": "code",
   "execution_count": 52,
   "metadata": {},
   "outputs": [
    {
     "name": "stdout",
     "output_type": "stream",
     "text": [
      "(1645, 47)\n",
      "(1645, 1)\n"
     ]
    }
   ],
   "source": [
    "X = tnn3.iloc[:, 0:47].values; Y = tnn3.iloc[:, 47].values.reshape(-1, 1); \n",
    "print(X.shape); print(Y.shape);"
   ]
  },
  {
   "cell_type": "code",
   "execution_count": 53,
   "metadata": {},
   "outputs": [
    {
     "name": "stdout",
     "output_type": "stream",
     "text": [
      "(1646, 31)\n",
      "(1646, 1)\n"
     ]
    }
   ],
   "source": [
    "x = tnt3.iloc[:, 0:31].values; y = tnt3.iloc[:, 31].values.reshape(-1, 1);\n",
    "print(x.shape); print(y.shape);"
   ]
  },
  {
   "cell_type": "code",
   "execution_count": 18,
   "metadata": {},
   "outputs": [],
   "source": [
    "from sklearn.model_selection import train_test_split\n",
    "X_train, X_test, Y_train, Y_test = train_test_split(X, Y, test_size=0.3, stratify=Y)"
   ]
  },
  {
   "cell_type": "code",
   "execution_count": 54,
   "metadata": {},
   "outputs": [],
   "source": [
    "x_train, x_test, y_train, y_test = train_test_split(x, y, test_size=0.3, stratify=y)"
   ]
  },
  {
   "cell_type": "markdown",
   "metadata": {},
   "source": [
    "# Regression Model"
   ]
  },
  {
   "cell_type": "markdown",
   "metadata": {},
   "source": [
    "### Coeff Table function"
   ]
  },
  {
   "cell_type": "code",
   "execution_count": 19,
   "metadata": {},
   "outputs": [],
   "source": [
    "def report_coef(names, coef, intercept):\n",
    "    r = pd.DataFrame({ 'coef': coef, 'positive': coef>=0 }, index = names)\n",
    "    r = r.sort_values(by=['coef'])\n",
    "    display(r)\n",
    "    print(\"Intercept: {}\".format(intercept))\n",
    "    r['coef'].plot(kind='barh', color=r['positive'].map({True: 'b', False:'r'}))"
   ]
  },
  {
   "cell_type": "markdown",
   "metadata": {},
   "source": [
    "### Lin Regression Model using trim dataset"
   ]
  },
  {
   "cell_type": "code",
   "execution_count": 26,
   "metadata": {},
   "outputs": [],
   "source": [
    "from sklearn import metrics"
   ]
  },
  {
   "cell_type": "code",
   "execution_count": 55,
   "metadata": {},
   "outputs": [
    {
     "name": "stdout",
     "output_type": "stream",
     "text": [
      "Final score (RMSE): 0.2073076367378235\n"
     ]
    },
    {
     "data": {
      "text/html": [
       "<div>\n",
       "<style scoped>\n",
       "    .dataframe tbody tr th:only-of-type {\n",
       "        vertical-align: middle;\n",
       "    }\n",
       "\n",
       "    .dataframe tbody tr th {\n",
       "        vertical-align: top;\n",
       "    }\n",
       "\n",
       "    .dataframe thead th {\n",
       "        text-align: right;\n",
       "    }\n",
       "</style>\n",
       "<table border=\"1\" class=\"dataframe\">\n",
       "  <thead>\n",
       "    <tr style=\"text-align: right;\">\n",
       "      <th></th>\n",
       "      <th>coef</th>\n",
       "      <th>positive</th>\n",
       "    </tr>\n",
       "  </thead>\n",
       "  <tbody>\n",
       "    <tr>\n",
       "      <th>Urine.output</th>\n",
       "      <td>-8.454492e-03</td>\n",
       "      <td>False</td>\n",
       "    </tr>\n",
       "    <tr>\n",
       "      <th>SpO2</th>\n",
       "      <td>-6.434484e-03</td>\n",
       "      <td>False</td>\n",
       "    </tr>\n",
       "    <tr>\n",
       "      <th>Age</th>\n",
       "      <td>-5.719082e-03</td>\n",
       "      <td>False</td>\n",
       "    </tr>\n",
       "    <tr>\n",
       "      <th>Hb</th>\n",
       "      <td>-4.607815e-03</td>\n",
       "      <td>False</td>\n",
       "    </tr>\n",
       "    <tr>\n",
       "      <th>Lactate</th>\n",
       "      <td>-4.516630e-03</td>\n",
       "      <td>False</td>\n",
       "    </tr>\n",
       "    <tr>\n",
       "      <th>PaCO2</th>\n",
       "      <td>-4.073118e-03</td>\n",
       "      <td>False</td>\n",
       "    </tr>\n",
       "    <tr>\n",
       "      <th>PaO2</th>\n",
       "      <td>-2.748742e-03</td>\n",
       "      <td>False</td>\n",
       "    </tr>\n",
       "    <tr>\n",
       "      <th>INR</th>\n",
       "      <td>-2.590961e-03</td>\n",
       "      <td>False</td>\n",
       "    </tr>\n",
       "    <tr>\n",
       "      <th>K</th>\n",
       "      <td>-2.468763e-03</td>\n",
       "      <td>False</td>\n",
       "    </tr>\n",
       "    <tr>\n",
       "      <th>MAP</th>\n",
       "      <td>-1.536714e-03</td>\n",
       "      <td>False</td>\n",
       "    </tr>\n",
       "    <tr>\n",
       "      <th>Serum.Cr</th>\n",
       "      <td>-1.371450e-03</td>\n",
       "      <td>False</td>\n",
       "    </tr>\n",
       "    <tr>\n",
       "      <th>Platelets</th>\n",
       "      <td>-1.040195e-03</td>\n",
       "      <td>False</td>\n",
       "    </tr>\n",
       "    <tr>\n",
       "      <th>Vent.mode_RA</th>\n",
       "      <td>-9.844083e-04</td>\n",
       "      <td>False</td>\n",
       "    </tr>\n",
       "    <tr>\n",
       "      <th>A.a.gradient</th>\n",
       "      <td>7.404014e-08</td>\n",
       "      <td>True</td>\n",
       "    </tr>\n",
       "    <tr>\n",
       "      <th>GCS</th>\n",
       "      <td>3.055581e-04</td>\n",
       "      <td>True</td>\n",
       "    </tr>\n",
       "    <tr>\n",
       "      <th>Na</th>\n",
       "      <td>1.016075e-03</td>\n",
       "      <td>True</td>\n",
       "    </tr>\n",
       "    <tr>\n",
       "      <th>pH</th>\n",
       "      <td>1.678806e-03</td>\n",
       "      <td>True</td>\n",
       "    </tr>\n",
       "    <tr>\n",
       "      <th>HR</th>\n",
       "      <td>1.752247e-03</td>\n",
       "      <td>True</td>\n",
       "    </tr>\n",
       "    <tr>\n",
       "      <th>Blood.Urea</th>\n",
       "      <td>5.913369e-03</td>\n",
       "      <td>True</td>\n",
       "    </tr>\n",
       "    <tr>\n",
       "      <th>Temparature</th>\n",
       "      <td>6.287681e-03</td>\n",
       "      <td>True</td>\n",
       "    </tr>\n",
       "    <tr>\n",
       "      <th>HCO3</th>\n",
       "      <td>7.213665e-03</td>\n",
       "      <td>True</td>\n",
       "    </tr>\n",
       "    <tr>\n",
       "      <th>FiO2</th>\n",
       "      <td>7.545721e-03</td>\n",
       "      <td>True</td>\n",
       "    </tr>\n",
       "    <tr>\n",
       "      <th>TLC</th>\n",
       "      <td>1.096162e-02</td>\n",
       "      <td>True</td>\n",
       "    </tr>\n",
       "    <tr>\n",
       "      <th>Bili</th>\n",
       "      <td>1.151032e-02</td>\n",
       "      <td>True</td>\n",
       "    </tr>\n",
       "    <tr>\n",
       "      <th>RR</th>\n",
       "      <td>1.389569e-02</td>\n",
       "      <td>True</td>\n",
       "    </tr>\n",
       "    <tr>\n",
       "      <th>Surgery_Non-Operative</th>\n",
       "      <td>4.704886e-02</td>\n",
       "      <td>True</td>\n",
       "    </tr>\n",
       "    <tr>\n",
       "      <th>Vent.mode_Mask</th>\n",
       "      <td>4.824699e-02</td>\n",
       "      <td>True</td>\n",
       "    </tr>\n",
       "    <tr>\n",
       "      <th>Vent.mode_Trach</th>\n",
       "      <td>6.665057e-02</td>\n",
       "      <td>True</td>\n",
       "    </tr>\n",
       "    <tr>\n",
       "      <th>Vent.mode_High Flow</th>\n",
       "      <td>6.773769e-02</td>\n",
       "      <td>True</td>\n",
       "    </tr>\n",
       "    <tr>\n",
       "      <th>Surgery_Emergency surgery</th>\n",
       "      <td>9.415421e-02</td>\n",
       "      <td>True</td>\n",
       "    </tr>\n",
       "    <tr>\n",
       "      <th>Vent.mode_ETT</th>\n",
       "      <td>1.687358e-01</td>\n",
       "      <td>True</td>\n",
       "    </tr>\n",
       "  </tbody>\n",
       "</table>\n",
       "</div>"
      ],
      "text/plain": [
       "                                   coef  positive\n",
       "Urine.output              -8.454492e-03     False\n",
       "SpO2                      -6.434484e-03     False\n",
       "Age                       -5.719082e-03     False\n",
       "Hb                        -4.607815e-03     False\n",
       "Lactate                   -4.516630e-03     False\n",
       "PaCO2                     -4.073118e-03     False\n",
       "PaO2                      -2.748742e-03     False\n",
       "INR                       -2.590961e-03     False\n",
       "K                         -2.468763e-03     False\n",
       "MAP                       -1.536714e-03     False\n",
       "Serum.Cr                  -1.371450e-03     False\n",
       "Platelets                 -1.040195e-03     False\n",
       "Vent.mode_RA              -9.844083e-04     False\n",
       "A.a.gradient               7.404014e-08      True\n",
       "GCS                        3.055581e-04      True\n",
       "Na                         1.016075e-03      True\n",
       "pH                         1.678806e-03      True\n",
       "HR                         1.752247e-03      True\n",
       "Blood.Urea                 5.913369e-03      True\n",
       "Temparature                6.287681e-03      True\n",
       "HCO3                       7.213665e-03      True\n",
       "FiO2                       7.545721e-03      True\n",
       "TLC                        1.096162e-02      True\n",
       "Bili                       1.151032e-02      True\n",
       "RR                         1.389569e-02      True\n",
       "Surgery_Non-Operative      4.704886e-02      True\n",
       "Vent.mode_Mask             4.824699e-02      True\n",
       "Vent.mode_Trach            6.665057e-02      True\n",
       "Vent.mode_High Flow        6.773769e-02      True\n",
       "Surgery_Emergency surgery  9.415421e-02      True\n",
       "Vent.mode_ETT              1.687358e-01      True"
      ]
     },
     "metadata": {},
     "output_type": "display_data"
    },
    {
     "name": "stdout",
     "output_type": "stream",
     "text": [
      "Intercept: [-0.018854]\n"
     ]
    },
    {
     "data": {
      "image/png": "[encoded data removed]",
      "text/plain": [
       "<Figure size 432x288 with 1 Axes>"
      ]
     },
     "metadata": {
      "needs_background": "light"
     },
     "output_type": "display_data"
    }
   ],
   "source": [
    "import sklearn.linear_model\n",
    "import sklearn.metrics\n",
    "\n",
    "# Creating model\n",
    "regressor = sklearn.linear_model.LinearRegression()\n",
    "\n",
    "# Fit and train\n",
    "regressor.fit(x_train, y_train)\n",
    "# Predict\n",
    "pred = regressor.predict(x_test)\n",
    "\n",
    "# RMSE Error\n",
    "score = np.sqrt(metrics.mean_squared_error(pred, y_test))\n",
    "print(\"Final score (RMSE): {}\".format(score))\n",
    "\n",
    "names = list(tnt3.columns.values)\n",
    "names.remove('Survival_Expired')\n",
    "report_coef(\n",
    "    names, \n",
    "    regressor.coef_[0,:], \n",
    "    regressor.intercept_)"
   ]
  },
  {
   "cell_type": "markdown",
   "metadata": {},
   "source": [
    "### Lasso Regularization - trim dataset"
   ]
  },
  {
   "cell_type": "code",
   "execution_count": 58,
   "metadata": {},
   "outputs": [
    {
     "name": "stdout",
     "output_type": "stream",
     "text": [
      "Final score (RMSE): 0.2131815105676651\n"
     ]
    },
    {
     "data": {
      "text/html": [
       "<div>\n",
       "<style scoped>\n",
       "    .dataframe tbody tr th:only-of-type {\n",
       "        vertical-align: middle;\n",
       "    }\n",
       "\n",
       "    .dataframe tbody tr th {\n",
       "        vertical-align: top;\n",
       "    }\n",
       "\n",
       "    .dataframe thead th {\n",
       "        text-align: right;\n",
       "    }\n",
       "</style>\n",
       "<table border=\"1\" class=\"dataframe\">\n",
       "  <thead>\n",
       "    <tr style=\"text-align: right;\">\n",
       "      <th></th>\n",
       "      <th>coef</th>\n",
       "      <th>positive</th>\n",
       "    </tr>\n",
       "  </thead>\n",
       "  <tbody>\n",
       "    <tr>\n",
       "      <th>Urine.output</th>\n",
       "      <td>-0.001670</td>\n",
       "      <td>False</td>\n",
       "    </tr>\n",
       "    <tr>\n",
       "      <th>SpO2</th>\n",
       "      <td>-0.001588</td>\n",
       "      <td>False</td>\n",
       "    </tr>\n",
       "    <tr>\n",
       "      <th>Hb</th>\n",
       "      <td>-0.000691</td>\n",
       "      <td>False</td>\n",
       "    </tr>\n",
       "    <tr>\n",
       "      <th>Age</th>\n",
       "      <td>-0.000000</td>\n",
       "      <td>True</td>\n",
       "    </tr>\n",
       "    <tr>\n",
       "      <th>Vent.mode_Mask</th>\n",
       "      <td>-0.000000</td>\n",
       "      <td>True</td>\n",
       "    </tr>\n",
       "    <tr>\n",
       "      <th>Vent.mode_High Flow</th>\n",
       "      <td>0.000000</td>\n",
       "      <td>True</td>\n",
       "    </tr>\n",
       "    <tr>\n",
       "      <th>Surgery_Non-Operative</th>\n",
       "      <td>0.000000</td>\n",
       "      <td>True</td>\n",
       "    </tr>\n",
       "    <tr>\n",
       "      <th>Surgery_Emergency surgery</th>\n",
       "      <td>0.000000</td>\n",
       "      <td>True</td>\n",
       "    </tr>\n",
       "    <tr>\n",
       "      <th>INR</th>\n",
       "      <td>-0.000000</td>\n",
       "      <td>True</td>\n",
       "    </tr>\n",
       "    <tr>\n",
       "      <th>Lactate</th>\n",
       "      <td>-0.000000</td>\n",
       "      <td>True</td>\n",
       "    </tr>\n",
       "    <tr>\n",
       "      <th>Serum.Cr</th>\n",
       "      <td>0.000000</td>\n",
       "      <td>True</td>\n",
       "    </tr>\n",
       "    <tr>\n",
       "      <th>Na</th>\n",
       "      <td>-0.000000</td>\n",
       "      <td>True</td>\n",
       "    </tr>\n",
       "    <tr>\n",
       "      <th>K</th>\n",
       "      <td>-0.000000</td>\n",
       "      <td>True</td>\n",
       "    </tr>\n",
       "    <tr>\n",
       "      <th>Vent.mode_RA</th>\n",
       "      <td>-0.000000</td>\n",
       "      <td>True</td>\n",
       "    </tr>\n",
       "    <tr>\n",
       "      <th>Platelets</th>\n",
       "      <td>-0.000000</td>\n",
       "      <td>True</td>\n",
       "    </tr>\n",
       "    <tr>\n",
       "      <th>HCO3</th>\n",
       "      <td>-0.000000</td>\n",
       "      <td>True</td>\n",
       "    </tr>\n",
       "    <tr>\n",
       "      <th>A.a.gradient</th>\n",
       "      <td>0.000000</td>\n",
       "      <td>True</td>\n",
       "    </tr>\n",
       "    <tr>\n",
       "      <th>pH</th>\n",
       "      <td>0.000000</td>\n",
       "      <td>True</td>\n",
       "    </tr>\n",
       "    <tr>\n",
       "      <th>PaCO2</th>\n",
       "      <td>-0.000000</td>\n",
       "      <td>True</td>\n",
       "    </tr>\n",
       "    <tr>\n",
       "      <th>PaO2</th>\n",
       "      <td>-0.000000</td>\n",
       "      <td>True</td>\n",
       "    </tr>\n",
       "    <tr>\n",
       "      <th>FiO2</th>\n",
       "      <td>0.000000</td>\n",
       "      <td>True</td>\n",
       "    </tr>\n",
       "    <tr>\n",
       "      <th>MAP</th>\n",
       "      <td>-0.000000</td>\n",
       "      <td>True</td>\n",
       "    </tr>\n",
       "    <tr>\n",
       "      <th>HR</th>\n",
       "      <td>0.000000</td>\n",
       "      <td>True</td>\n",
       "    </tr>\n",
       "    <tr>\n",
       "      <th>Temparature</th>\n",
       "      <td>0.000000</td>\n",
       "      <td>True</td>\n",
       "    </tr>\n",
       "    <tr>\n",
       "      <th>GCS</th>\n",
       "      <td>-0.000000</td>\n",
       "      <td>True</td>\n",
       "    </tr>\n",
       "    <tr>\n",
       "      <th>Vent.mode_Trach</th>\n",
       "      <td>0.000000</td>\n",
       "      <td>True</td>\n",
       "    </tr>\n",
       "    <tr>\n",
       "      <th>Blood.Urea</th>\n",
       "      <td>0.000360</td>\n",
       "      <td>True</td>\n",
       "    </tr>\n",
       "    <tr>\n",
       "      <th>TLC</th>\n",
       "      <td>0.003484</td>\n",
       "      <td>True</td>\n",
       "    </tr>\n",
       "    <tr>\n",
       "      <th>Bili</th>\n",
       "      <td>0.003761</td>\n",
       "      <td>True</td>\n",
       "    </tr>\n",
       "    <tr>\n",
       "      <th>RR</th>\n",
       "      <td>0.005038</td>\n",
       "      <td>True</td>\n",
       "    </tr>\n",
       "    <tr>\n",
       "      <th>Vent.mode_ETT</th>\n",
       "      <td>0.028512</td>\n",
       "      <td>True</td>\n",
       "    </tr>\n",
       "  </tbody>\n",
       "</table>\n",
       "</div>"
      ],
      "text/plain": [
       "                               coef  positive\n",
       "Urine.output              -0.001670     False\n",
       "SpO2                      -0.001588     False\n",
       "Hb                        -0.000691     False\n",
       "Age                       -0.000000      True\n",
       "Vent.mode_Mask            -0.000000      True\n",
       "Vent.mode_High Flow        0.000000      True\n",
       "Surgery_Non-Operative      0.000000      True\n",
       "Surgery_Emergency surgery  0.000000      True\n",
       "INR                       -0.000000      True\n",
       "Lactate                   -0.000000      True\n",
       "Serum.Cr                   0.000000      True\n",
       "Na                        -0.000000      True\n",
       "K                         -0.000000      True\n",
       "Vent.mode_RA              -0.000000      True\n",
       "Platelets                 -0.000000      True\n",
       "HCO3                      -0.000000      True\n",
       "A.a.gradient               0.000000      True\n",
       "pH                         0.000000      True\n",
       "PaCO2                     -0.000000      True\n",
       "PaO2                      -0.000000      True\n",
       "FiO2                       0.000000      True\n",
       "MAP                       -0.000000      True\n",
       "HR                         0.000000      True\n",
       "Temparature                0.000000      True\n",
       "GCS                       -0.000000      True\n",
       "Vent.mode_Trach            0.000000      True\n",
       "Blood.Urea                 0.000360      True\n",
       "TLC                        0.003484      True\n",
       "Bili                       0.003761      True\n",
       "RR                         0.005038      True\n",
       "Vent.mode_ETT              0.028512      True"
      ]
     },
     "metadata": {},
     "output_type": "display_data"
    },
    {
     "name": "stdout",
     "output_type": "stream",
     "text": [
      "Intercept: [0.04475664]\n"
     ]
    },
    {
     "data": {
      "image/png": "[encoded data removed]",
      "text/plain": [
       "<Figure size 432x288 with 1 Axes>"
      ]
     },
     "metadata": {
      "needs_background": "light"
     },
     "output_type": "display_data"
    }
   ],
   "source": [
    "import sklearn.linear_model\n",
    "import sklearn.metrics\n",
    "from sklearn.linear_model import Lasso\n",
    "\n",
    "# Creating model\n",
    "regressor = Lasso(random_state=0, alpha=0.01)\n",
    "\n",
    "# Fit and train\n",
    "regressor.fit(x_train, y_train)\n",
    "# Predict\n",
    "pred = regressor.predict(x_test)\n",
    "\n",
    "# RMSE Error\n",
    "score = np.sqrt(metrics.mean_squared_error(pred, y_test))\n",
    "print(\"Final score (RMSE): {}\".format(score))\n",
    "\n",
    "names = list(tnt3.columns.values)\n",
    "names.remove('Survival_Expired')\n",
    "report_coef(\n",
    "    names, \n",
    "    regressor.coef_, \n",
    "    regressor.intercept_)"
   ]
  },
  {
   "cell_type": "code",
   "execution_count": null,
   "metadata": {},
   "outputs": [],
   "source": []
  }
 ],
 "metadata": {
  "kernelspec": {
   "display_name": "Python 3",
   "language": "python",
   "name": "python3"
  },
  "language_info": {
   "codemirror_mode": {
    "name": "ipython",
    "version": 3
   },
   "file_extension": ".py",
   "mimetype": "text/x-python",
   "name": "python",
   "nbconvert_exporter": "python",
   "pygments_lexer": "ipython3",
   "version": "3.7.3"
  }
 },
 "nbformat": 4,
 "nbformat_minor": 2
}
